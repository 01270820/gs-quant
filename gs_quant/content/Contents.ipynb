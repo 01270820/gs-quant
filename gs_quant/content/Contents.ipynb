{
 "cells": [
  {
   "cell_type": "markdown",
   "id": "d1e67001",
   "metadata": {},
   "source": [
    "# Contents"
   ]
  },
  {
   "cell_type": "markdown",
   "id": "d1e67002",
   "metadata": {},
   "source": [
    "## 📂 events"
   ]
  },
  {
   "cell_type": "markdown",
   "id": "d1e67003",
   "metadata": {},
   "source": [
    "- 📁 **00_gsquant_meets_markets**\n",
    "  - 📁 00_us_election_analysis\n",
    "    - 📄 [0000_macro_big_picture.ipynb](events/00_gsquant_meets_markets/00_us_election_analysis/0000_macro_big_picture.ipynb)\n",
    "    - 📄 [0001_portfolios_and_var.ipynb](events/00_gsquant_meets_markets/00_us_election_analysis/0001_portfolios_and_var.ipynb)\n",
    "    - 📄 [0002_past_elections.ipynb](events/00_gsquant_meets_markets/00_us_election_analysis/0002_past_elections.ipynb)\n",
    "    - 📄 [0003_trades.ipynb](events/00_gsquant_meets_markets/00_us_election_analysis/0003_trades.ipynb)\n",
    "  - 📁 01_ideas_for_risk_re_rating\n",
    "    - 📄 [eq_sx5e_spx_vol_spread_trade.ipynb](events/00_gsquant_meets_markets/01_ideas_for_risk_re_rating/eq_sx5e_spx_vol_spread_trade.ipynb)\n",
    "    - 📄 [fx_covid19_recovery_trade.ipynb](events/00_gsquant_meets_markets/01_ideas_for_risk_re_rating/fx_covid19_recovery_trade.ipynb)\n",
    "    - 📄 [inflation_covid19_recovery_trade.ipynb](events/00_gsquant_meets_markets/01_ideas_for_risk_re_rating/inflation_covid19_recovery_trade.ipynb)\n",
    "  - 📁 02_optimizing_equity_trading\n",
    "    - 📄 [quants_meet_markets_qes.ipynb](events/00_gsquant_meets_markets/02_optimizing_equity_trading/quants_meet_markets_qes.ipynb)\n",
    "    - 📄 [section_a_liquidity_and_clusters.ipynb](events/00_gsquant_meets_markets/02_optimizing_equity_trading/section_a_liquidity_and_clusters.ipynb)\n",
    "    - 📄 [section_b_ownership.ipynb](events/00_gsquant_meets_markets/02_optimizing_equity_trading/section_b_ownership.ipynb)\n",
    "    - 📄 [section_c_apex.ipynb](events/00_gsquant_meets_markets/02_optimizing_equity_trading/section_c_apex.ipynb)\n",
    "  - 📁 03_esg_basket_portfolio_optimisation\n",
    "    - 📄 [quants_meet_markets_msci.ipynb](events/00_gsquant_meets_markets/03_esg_basket_portfolio_optimisation/quants_meet_markets_msci.ipynb)\n"
   ]
  },
  {
   "cell_type": "markdown",
   "id": "d1e67004",
   "metadata": {},
   "source": [
    "## 📂 made_with_gs_quant"
   ]
  },
  {
   "cell_type": "markdown",
   "id": "d1e67005",
   "metadata": {},
   "source": [
    "- 📄 [1-Navigating Rates.ipynb](made_with_gs_quant/1-Navigating%20Rates.ipynb)\n",
    "- 📄 [10-Explaining Performance Drivers.ipynb](made_with_gs_quant/10-Explaining%20Performance%20Drivers.ipynb)\n",
    "- 📄 [11-FX Election Hedge.ipynb](made_with_gs_quant/11-FX%20Election%20Hedge.ipynb)\n",
    "- 📄 [12-Structuring for Uncertaintly.ipynb](made_with_gs_quant/12-Structuring%20for%20Uncertaintly.ipynb)\n",
    "- 📄 [13-Cyclicals.ipynb](made_with_gs_quant/13-Cyclicals.ipynb)\n",
    "- 📄 [14-Curve Inversions.ipynb](made_with_gs_quant/14-Curve%20Inversions.ipynb)\n",
    "- 📄 [2-Levels and Tails.ipynb](made_with_gs_quant/2-Levels%20and%20Tails.ipynb)\n",
    "- 📄 [3-Systematic Selling.ipynb](made_with_gs_quant/3-Systematic%20Selling.ipynb)\n",
    "- 📄 [4-Delta Hedging.ipynb](made_with_gs_quant/4-Delta%20Hedging.ipynb)\n",
    "- 📄 [5-What's New.ipynb](made_with_gs_quant/5-What's%20New.ipynb)\n",
    "- 📄 [6-Evolving Correlations.ipynb](made_with_gs_quant/6-Evolving%20Correlations.ipynb)\n",
    "- 📄 [7-Predicting Performance and Live Risk.ipynb](made_with_gs_quant/7-Predicting%20Performance%20and%20Live%20Risk.ipynb)\n",
    "- 📄 [8-What's New Internal.ipynb](made_with_gs_quant/8-What's%20New%20Internal.ipynb)\n",
    "- 📄 [9-Hedging using Machine Learning Techniques.ipynb](made_with_gs_quant/9-Hedging%20using%20Machine%20Learning%20Techniques.ipynb)\n"
   ]
  },
  {
   "cell_type": "markdown",
   "id": "d1e67006",
   "metadata": {},
   "source": [
    "## 📂 reports_and_screens"
   ]
  },
  {
   "cell_type": "markdown",
   "id": "d1e67007",
   "metadata": {},
   "source": [
    "- 📁 **00_fx**\n",
    "  - 📄 [0000_vol_screen.ipynb](reports_and_screens/00_fx/0000_vol_screen.ipynb)\n",
    "  - 📄 [0001_vol_calendar_screen.ipynb](reports_and_screens/00_fx/0001_vol_calendar_screen.ipynb)\n",
    "  - 📄 [0002_forward_vol_screen.ipynb](reports_and_screens/00_fx/0002_forward_vol_screen.ipynb)\n",
    "  - 📄 [0003_10x_binary_screen.ipynb](reports_and_screens/00_fx/0003_10x_binary_screen.ipynb)\n",
    "  - 📄 [0004_bear_put_spread_screen.ipynb](reports_and_screens/00_fx/0004_bear_put_spread_screen.ipynb)\n",
    "  - 📄 [0005_vol_skew.ipynb](reports_and_screens/00_fx/0005_vol_skew.ipynb)\n",
    "  - 📄 [0006_vol_swap_spread.ipynb](reports_and_screens/00_fx/0006_vol_swap_spread.ipynb)\n",
    "  - 📄 [0007_eq_fx_hedges.ipynb](reports_and_screens/00_fx/0007_eq_fx_hedges.ipynb)\n",
    "- 📁 **02_rates**\n",
    "  - 📄 [0000_vol_fixed_strike_grid.ipynb](reports_and_screens/02_rates/0000_vol_fixed_strike_grid.ipynb)\n",
    "  - 📄 [0001_vol_moneyness_screen.ipynb](reports_and_screens/02_rates/0001_vol_moneyness_screen.ipynb)\n",
    "  - 📄 [0002_swaption_carry_grid.ipynb](reports_and_screens/02_rates/0002_swaption_carry_grid.ipynb)\n",
    "  - 📄 [0003_spot_vol_shock.ipynb](reports_and_screens/02_rates/0003_spot_vol_shock.ipynb)\n",
    "- 📁 **03_prime**\n",
    "  - 📄 [0001_gs_pb_data_case_study_sector_positioning.ipynb](reports_and_screens/03_prime/0001_gs_pb_data_case_study_sector_positioning.ipynb)\n",
    "  - 📄 [0002_gs_pb_data_case_study_flows.ipynb](reports_and_screens/03_prime/0002_gs_pb_data_case_study_flows.ipynb)\n",
    "  - 📄 [0003_gs_pb_data_case_study_factors.ipynb](reports_and_screens/03_prime/0003_gs_pb_data_case_study_factors.ipynb)\n",
    "  - 📄 [0004_gs_pb_data_case_study_country_positioning.ipynb](reports_and_screens/03_prime/0004_gs_pb_data_case_study_country_positioning.ipynb)\n",
    "  - 📄 [0005_gs_pb_data_case_study_leverage.ipynb](reports_and_screens/03_prime/0005_gs_pb_data_case_study_leverage.ipynb)\n",
    "- 📄 [README.md](reports_and_screens/README.md)\n"
   ]
  }
 ],
 "metadata": {},
 "nbformat": 4,
 "nbformat_minor": 5
}
