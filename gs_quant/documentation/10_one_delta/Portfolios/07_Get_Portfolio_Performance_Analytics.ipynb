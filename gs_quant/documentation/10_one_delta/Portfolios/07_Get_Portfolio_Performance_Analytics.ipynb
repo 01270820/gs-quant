{
 "cells": [
  {
   "cell_type": "markdown",
   "metadata": {},
   "source": [
    "# Pull Performance Report Results with GS Quant\n",
    "\n",
    "## Step 1: Authenticate and Initialize Your Session\n",
    "\n",
    "First you will import the necessary modules and add your client id and client secret."
   ]
  },
  {
   "cell_type": "code",
   "execution_count": null,
   "metadata": {},
   "outputs": [],
   "source": [
    "import pandas as pd\n",
    "from IPython.display import display\n",
    "import warnings\n",
    "\n",
    "from gs_quant.markets.portfolio_manager import PortfolioManager\n",
    "from gs_quant.markets.securities import Asset, AssetIdentifier\n",
    "from gs_quant.session import GsSession, Environment\n",
    "\n",
    "\n",
    "client = None\n",
    "secret = None\n",
    "\n",
    "\n",
    "## External users must fill in their client ID and secret below and comment out the line below\n",
    "# client = 'ENTER CLIENT ID'\n",
    "# secret = 'ENTER CLIENT SECRET'\n",
    "\n",
    "GsSession.use(\n",
    "    Environment.PROD,\n",
    "    client_id=client,\n",
    "    client_secret=secret,\n",
    ")\n",
    "warnings.filterwarnings(\"ignore\", category=RuntimeWarning)\n",
    "\n",
    "\n",
    "print('GS Session initialized.')"
   ]
  },
  {
   "cell_type": "code",
   "execution_count": 2,
   "metadata": {
    "collapsed": false,
    "pycharm": {
     "name": "#%%\n"
    }
   },
   "outputs": [],
   "source": [
    "pm = PortfolioManager('ENTER PORTFOLIO ID')\n",
    "performance_report = pm.get_performance_report()\n",
    "start_date = performance_report.earliest_start_date\n",
    "end_date = performance_report.latest_end_date"
   ]
  },
  {
   "cell_type": "markdown",
   "metadata": {
    "collapsed": false
   },
   "source": [
    "### Step 2: Pull daily exposures and PnL data: \n",
    "\n",
    "Now that we have our performance report, we can leverage the unique functionalities of the PerformanceReport class to pull daily exposure and PnL data:"
   ]
  },
  {
   "cell_type": "code",
   "execution_count": null,
   "metadata": {
    "collapsed": false,
    "pycharm": {
     "name": "#%%\n"
    }
   },
   "outputs": [],
   "source": [
    "all_exposures = performance_report.get_many_measures(\n",
    "    start_date=start_date, end_date=end_date, measures=['pnl', 'grossExposure', 'netExposure']\n",
    ")\n",
    "\n",
    "print(all_exposures)\n",
    "all_exposures.plot(title='Performance Breakdown')"
   ]
  },
  {
   "cell_type": "markdown",
   "metadata": {
    "collapsed": false
   },
   "source": [
    "### Step 3: Pull Brinson Attribution Data \n",
    "Now let's pull Brinson Attribution data to analyze the PnL of your portfolio compared to a benchmark, which can be any equity ETF, Index, or Basket in Marquee:\n",
    "\n",
    "*Important Note: An error in the code below might occur if time period for which you are querying is too long*"
   ]
  },
  {
   "cell_type": "code",
   "execution_count": null,
   "metadata": {
    "collapsed": false,
    "pycharm": {
     "name": "#%%\n"
    }
   },
   "outputs": [],
   "source": [
    "asset = Asset.get(id_value='MXWO', id_type=AssetIdentifier.TICKER)\n",
    "\n",
    "brinson_attribution_results = performance_report.get_brinson_attribution(\n",
    "    benchmark=asset.get_marquee_id(), include_interaction=True, start_date=start_date, end_date=end_date\n",
    ")\n",
    "\n",
    "display(pd.DataFrame(brinson_attribution_results))"
   ]
  },
  {
   "cell_type": "markdown",
   "metadata": {
    "collapsed": false
   },
   "source": [
    "### Step 4: Pull Asset Level Performance Data\n",
    "\n",
    "We can pull asset level data from the performance report.\n",
    "\n",
    "You can extract asset level data of quantity, netWeight, netExposure, etc.., using `get_positions_data`.\n"
   ]
  },
  {
   "cell_type": "code",
   "execution_count": null,
   "metadata": {},
   "outputs": [],
   "source": [
    "asset_level_data = performance_report.get_positions_data(\n",
    "    start=performance_report.earliest_start_date, end=performance_report.earliest_start_date\n",
    ")\n",
    "\n",
    "asset_level_data"
   ]
  },
  {
   "cell_type": "markdown",
   "metadata": {},
   "source": [
    "You can also pull asset level contribution to PnL using the `pnl_contribution` function used below."
   ]
  },
  {
   "cell_type": "code",
   "execution_count": null,
   "metadata": {},
   "outputs": [],
   "source": [
    "pnl_contribution = performance_report.get_pnl_contribution(\n",
    "    start_date=performance_report.earliest_start_date, end_date=performance_report.latest_end_date\n",
    ")\n",
    "\n",
    "pnl_contribution"
   ]
  }
 ],
 "metadata": {
  "kernelspec": {
   "display_name": "Python 3",
   "language": "python",
   "name": "python3"
  },
  "language_info": {
   "codemirror_mode": {
    "name": "ipython",
    "version": 3
   },
   "file_extension": ".py",
   "mimetype": "text/x-python",
   "name": "python",
   "nbconvert_exporter": "python",
   "pygments_lexer": "ipython3",
   "version": "3.9.13"
  }
 },
 "nbformat": 4,
 "nbformat_minor": 0
}
