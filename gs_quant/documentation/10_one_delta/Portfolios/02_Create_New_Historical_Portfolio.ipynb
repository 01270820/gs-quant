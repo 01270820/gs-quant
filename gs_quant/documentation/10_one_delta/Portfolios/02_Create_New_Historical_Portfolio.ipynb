{
 "cells": [
  {
   "cell_type": "markdown",
   "metadata": {},
   "source": [
    "# Create a Marquee Historical Portfolio with GS Quant\n",
    "\n",
    "The Marquee Portfolio Service provides a powerful framework for uploading portfolio positions and retrieving analytics including historical performance, factor risk exposure, ESG analytics, and more. GS Quant makes operating the suite of Portfolio Service API's intuitive and fast."
   ]
  },
  {
   "cell_type": "markdown",
   "metadata": {},
   "source": [
    "## Step 1: Authenticate and Initialize Your Session\n",
    "\n",
    "First you will import the necessary modules and add your client id and client secret."
   ]
  },
  {
   "cell_type": "code",
   "execution_count": null,
   "metadata": {},
   "outputs": [],
   "source": [
    "import datetime as dt\n",
    "\n",
    "from gs_quant.entities.entitlements import Entitlements, EntitlementBlock, User\n",
    "from gs_quant.markets.portfolio import Portfolio\n",
    "from gs_quant.markets.portfolio_manager import PortfolioManager\n",
    "from gs_quant.markets.position_set import PositionSet, Position\n",
    "from gs_quant.markets.report import FactorRiskReport, ThematicReport, CustomAUMDataPoint\n",
    "from gs_quant.markets.securities import SecurityMaster, AssetIdentifier\n",
    "from gs_quant.session import GsSession, Environment\n",
    "from gs_quant.target.portfolios import RiskAumSource\n",
    "from gs_quant.models.risk_model import FactorRiskModel\n",
    "from gs_quant.common import PositionTag\n",
    "\n",
    "\n",
    "client = None\n",
    "secret = None\n",
    "\n",
    "## External users must fill in their client ID and secret below and comment out the line below\n",
    "\n",
    "# client = 'ENTER CLIENT ID'\n",
    "# secret = 'ENTER CLIENT SECRET'\n",
    "\n",
    "GsSession.use(Environment.PROD, client_id=client, client_secret=secret)\n",
    "\n",
    "print('GS Session initialized.')"
   ]
  },
  {
   "cell_type": "markdown",
   "metadata": {},
   "source": [
    "## Step 2: Create the Portfolio\n",
    "\n",
    "The first step is to create a new, empty portfolio in Marquee."
   ]
  },
  {
   "cell_type": "code",
   "execution_count": null,
   "metadata": {},
   "outputs": [],
   "source": [
    "portfolio = Portfolio(name='My New Historical Portfolio')\n",
    "portfolio.save()\n",
    "\n",
    "print(f\"Created portfolio '{portfolio.name}' with ID: {portfolio.id}\")"
   ]
  },
  {
   "cell_type": "markdown",
   "metadata": {},
   "source": [
    "Once your portfolio has been saved to Marquee, the `PortfolioManager` class allows users to interact with their Marquee portfolios directly from GS Quant. We will be using `PortfolioManager` to update portfolio positions, entitlements, update custom AUM, and run reports."
   ]
  },
  {
   "cell_type": "code",
   "execution_count": null,
   "metadata": {},
   "outputs": [],
   "source": [
    "pm = PortfolioManager(portfolio.id)"
   ]
  },
  {
   "cell_type": "markdown",
   "metadata": {},
   "source": [
    "## Step 3: Define Portfolio Entitlements (Optional)\n",
    "\n",
    "By default, an application will have all entitlement permissions to a portfolio it makes.\n",
    "However, if you would like to share the portfolio with others, either Marquee users or other\n",
    "applications, you will need to specify them in the entitlements parameter of the portfolio.\n",
    "Let's walk through how we convert a list of admin and viewer emails into an `Entitlements` object:\n",
    "\n",
    "*Note: If you would like to see this portfolio on your Marquee webpage, you'll need to add your account\n",
    "email address into the `portfolio_admin_emails` list*"
   ]
  },
  {
   "cell_type": "code",
   "execution_count": null,
   "metadata": {},
   "outputs": [],
   "source": [
    "portfolio_admin_emails = ['LIST OF ADMIN EMAILS']\n",
    "portfolio_viewer_emails = ['LIST OF VIEWER EMAILS']\n",
    "\n",
    "admin_entitlements = EntitlementBlock(users=User.get_many(emails=portfolio_admin_emails))\n",
    "view_entitlements = EntitlementBlock(users=User.get_many(emails=portfolio_viewer_emails))\n",
    "\n",
    "entitlements = Entitlements(view=view_entitlements, admin=admin_entitlements)\n",
    "\n",
    "print(f'Entitlements:\\n{entitlements.to_dict()}')\n",
    "\n",
    "pm.set_entitlements(entitlements)\n",
    "\n",
    "print(f\"Updated entitlements for '{portfolio.name}'\")"
   ]
  },
  {
   "cell_type": "markdown",
   "metadata": {},
   "source": [
    "## Step 4: Define Portfolio Positions\n",
    "\n",
    "Portfolio positions in Marquee are stored on a holding basis, when means you only upload positions for days where you are rebalancing your portfolio. Take the following set of positions:"
   ]
  },
  {
   "cell_type": "markdown",
   "source": [
    "### Uploading Positions Using Shares\n",
    "Portfolio quantity type uses share counts."
   ],
   "metadata": {
    "collapsed": false
   }
  },
  {
   "cell_type": "code",
   "execution_count": null,
   "outputs": [],
   "source": [
    "portfolio_position_sets = [\n",
    "    PositionSet(\n",
    "        date=dt.date(day=3, month=5, year=2021),\n",
    "        positions=[\n",
    "            Position(identifier='AAPL UW', quantity=25, tags=[PositionTag(name='Analyst', value='Marcus Goldman')]),\n",
    "            Position(identifier='GS UN', quantity=50, tags=[PositionTag(name='Analyst', value='Samuel Sachs')]),\n",
    "        ],\n",
    "    ),\n",
    "    PositionSet(\n",
    "        date=dt.date(day=1, month=7, year=2021),\n",
    "        positions=[\n",
    "            Position(identifier='AAPL UW', quantity=25, tags=[PositionTag(name='Analyst', value='Marcus Goldman')]),\n",
    "            Position(identifier='GS UN', quantity=50, tags=[PositionTag(name='Analyst', value='Samuel Sachs')]),\n",
    "        ],\n",
    "    ),\n",
    "]"
   ],
   "metadata": {
    "collapsed": false
   }
  },
  {
   "cell_type": "markdown",
   "source": [
    "### Uploading Positions Using Exposures\n",
    "Portfolio quantity type uses notional values."
   ],
   "metadata": {
    "collapsed": false
   }
  },
  {
   "cell_type": "code",
   "execution_count": null,
   "outputs": [],
   "source": [
    "portfolio_position_sets = [\n",
    "    PositionSet(\n",
    "        date=dt.date(day=3, month=5, year=2021),\n",
    "        positions=[\n",
    "            Position(identifier='AAPL UW', notional=25000, tags=[PositionTag(name='Analyst', value='Marcus Goldman')]),\n",
    "            Position(identifier='GS UN', notional=50000, tags=[PositionTag(name='Analyst', value='Samuel Sachs')]),\n",
    "        ],\n",
    "    ),\n",
    "    PositionSet(\n",
    "        date=dt.date(day=1, month=7, year=2021),\n",
    "        positions=[\n",
    "            Position(identifier='AAPL UW', notional=30000, tags=[PositionTag(name='Analyst', value='Marcus Goldman')]),\n",
    "            Position(identifier='GS UN', notional=75000, tags=[PositionTag(name='Analyst', value='Samuel Sachs')]),\n",
    "        ],\n",
    "    ),\n",
    "]"
   ],
   "metadata": {
    "collapsed": false
   }
  },
  {
   "cell_type": "markdown",
   "source": [
    "### Uploading Positions Using Weights\n",
    "Portfolio quantity type uses weight values."
   ],
   "metadata": {
    "collapsed": false
   }
  },
  {
   "cell_type": "code",
   "execution_count": null,
   "metadata": {},
   "outputs": [],
   "source": [
    "portfolio_position_sets = [\n",
    "    PositionSet(\n",
    "        date=dt.date(day=3, month=5, year=2021),\n",
    "        reference_notional=15000,\n",
    "        positions=[\n",
    "            Position(identifier='AAPL UW', weight=0.5, tags=[PositionTag(name='Analyst', value='Marcus Goldman')]),\n",
    "            Position(identifier='GS UN', weight=0.5, tags=[PositionTag(name='Analyst', value='Samuel Sachs')]),\n",
    "        ],\n",
    "    ),\n",
    "    PositionSet(\n",
    "        date=dt.date(day=1, month=7, year=2021),\n",
    "        reference_notional=20000,\n",
    "        positions=[\n",
    "            Position(identifier='AAPL UW', weight=0.5, tags=[PositionTag(name='Analyst', value='Marcus Goldman')]),\n",
    "            Position(identifier='GS UN', weight=0.5, tags=[PositionTag(name='Analyst', value='Samuel Sachs')]),\n",
    "        ],\n",
    "    ),\n",
    "]"
   ]
  },
  {
   "cell_type": "markdown",
   "metadata": {},
   "source": [
    "Resolve the positions in your portfolio as of last business day."
   ]
  },
  {
   "cell_type": "code",
   "execution_count": null,
   "metadata": {},
   "outputs": [],
   "source": [
    "for pos_set in portfolio_position_sets:\n",
    "    pos_set.resolve()\n",
    "    if len(pos_set.unresolved_positions) > 0:\n",
    "        print(\n",
    "            f'The following positions on {pos_set.date} could not be resolved: {[p.identifier for p in pos_set.unresolved_positions]}'\n",
    "        )\n",
    "    else:\n",
    "        print(f\"All positions on {pos_set.date} have been resolved and saved.\")"
   ]
  },
  {
   "cell_type": "markdown",
   "metadata": {},
   "source": [
    "## Price Positions (Weights & Exposures)\n",
    "When uploading positions by weights or exposures they must priced and converted to share quantities before being uploaded to the portfolio.\n",
    "Select the currency you want to price your positions with. If you do not specify, default is USD."
   ]
  },
  {
   "cell_type": "code",
   "execution_count": null,
   "metadata": {},
   "outputs": [],
   "source": [
    "currency = 'USD'\n",
    "\n",
    "for pos_set in portfolio_position_sets:\n",
    "    pos_set.price(currency)"
   ]
  },
  {
   "cell_type": "markdown",
   "source": [
    "## Step 5: Update Portfolio"
   ],
   "metadata": {
    "collapsed": false
   }
  },
  {
   "cell_type": "code",
   "execution_count": null,
   "outputs": [],
   "source": [
    "pm.update_positions(portfolio_position_sets)\n",
    "\n",
    "print(f\"Successfully updated positions for portfolio {pm.portfolio_id}\\n\")\n",
    "print(f\"Latest updated set of positions for {pm.portfolio_id}: \\n{pm.get_latest_position_set().get_positions()}\")"
   ],
   "metadata": {
    "collapsed": false
   }
  },
  {
   "cell_type": "markdown",
   "metadata": {},
   "source": [
    "If these positions were to be uploaded correctly using share quantities, this portfolio would hold 50 shares of GS UN and 25 shares of AAPL UW from May 3, 2021 to June 30, 2021, and it would hold 51 shares of GS UN and 26 shares of AAPL UW from July 1, 2021 to today.\n",
    "\n",
    "#### Do you have your positions as a dataframe?\n",
    "\n",
    "If you have a day's positions in a dataframe with columns `identifer` (string values), `quantity` (float values),\n",
    "and optionally `tags` (dictionary values), you can turn them into a `PositionSet` object by using the\n",
    "`PositionSet.from_frame()` function:\n",
    "\n",
    "`position_set = PositionSet.from_frame(positions_df, datetime_date)`\n",
    "\n",
    "You can also substitute the `quantity` column with either `notional` (float values) or `weight` (float values) columns."
   ]
  },
  {
   "cell_type": "code",
   "execution_count": null,
   "metadata": {},
   "outputs": [],
   "source": [
    "# positions_df = DATAFRAME WITH POSITIONS\n",
    "# datetime_date = POSITIONS' DATE\n",
    "\n",
    "portfolio_position_sets = []\n",
    "portfolio_position_sets.append(PositionSet.from_frame(positions_df, datetime_date))\n",
    "\n",
    "for pos_set in portfolio_position_sets:\n",
    "    pos_set.resolve()\n",
    "    if len(pos_set.unresolved_positions) > 0:\n",
    "        print(\n",
    "            f'The following positions on {pos_set.date} could not be resolved: {[p.identifier for p in pos_set.unresolved_positions]}'\n",
    "        )\n",
    "    else:\n",
    "        print(f\"All positions on {pos_set.date} have been resolved and saved.\")"
   ]
  },
  {
   "cell_type": "markdown",
   "metadata": {},
   "source": [
    "## Step 6: Create Factor Risk and/or Thematic Reports (Optional)\n",
    "\n",
    "By default, creating a portfolio will automatically create a corresponding performance report for it as well.\n",
    "If you would like to create a factor risk and/or thematic report (more documentation on reports found [here](https://developer.gs.com/p/docs/services/portfolio/programmatic-access/reports/))\n",
    "for it as well, run the following:"
   ]
  },
  {
   "cell_type": "code",
   "execution_count": null,
   "metadata": {},
   "outputs": [],
   "source": [
    "risk_model_id = 'RISK_MODEL_ID_HERE'\n",
    "risk_report = FactorRiskReport(risk_model_id=risk_model_id)\n",
    "risk_report.set_position_source(portfolio.id)\n",
    "risk_report.save()\n",
    "\n",
    "# Add a thematic report\n",
    "thematic_report = ThematicReport()\n",
    "thematic_report.set_position_source(portfolio.id)\n",
    "thematic_report.save()\n",
    "\n",
    "print('All portfolio reports created.')"
   ]
  },
  {
   "cell_type": "markdown",
   "source": [
    "If you want to analyze your portfolio's tracking error relative to a benchmark and its active return against a benchmark, you can create an active factor risk report by including an additional parameter, `benchmark_id`, when creating a `FactorRiskReport`, as shown below::\n",
    "\n"
   ],
   "metadata": {
    "collapsed": false
   }
  },
  {
   "cell_type": "code",
   "execution_count": null,
   "outputs": [],
   "source": [
    "benchmark = SecurityMaster.get_asset(id_value='BENCHMARK TICKER HERE', id_type=AssetIdentifier.TICKER)\n",
    "\n",
    "# Add an active factor risk report with a benchmark of your choice\n",
    "active_risk_report = FactorRiskReport(risk_model_id=risk_model_id, benchmark_id=benchmark.get_marquee_id())\n",
    "active_risk_report.set_position_source(portfolio.id)\n",
    "active_risk_report.save()"
   ],
   "metadata": {
    "collapsed": false
   }
  },
  {
   "cell_type": "markdown",
   "metadata": {},
   "source": [
    "### Quick Tip!\n",
    "\n",
    "*Explore the different factor risk models available in Marquee in our [Data Catalog](https://marquee.gs.com/s/discover/data-services/catalog?Category=Factor+Risk+Model)*\n",
    "\n",
    "*Premium clients get access to many more risk models from industry-leading commercial \n",
    "risk model vendors such as MSCI Barra, Axioma (SimCorp), and Wolfe_Research, \n",
    "while non-premium clients get access to a limited suite of models. To see which models \n",
    "you have access to, simply run the following:*"
   ]
  },
  {
   "cell_type": "code",
   "execution_count": null,
   "metadata": {},
   "outputs": [],
   "source": [
    "risk_models = FactorRiskModel.get_many(limit=100)\n",
    "for risk_model in risk_models:\n",
    "    print(f'{risk_model.name}: {risk_model.id}\\n')"
   ]
  },
  {
   "cell_type": "markdown",
   "metadata": {},
   "source": [
    "## Step 7: Schedule Reports\n",
    "\n",
    "Now, let's schedule all the portfolio reports. Once this is done and reports are completed, you can programmatically retrieve factor risk and attribution data for your portfolio.\n",
    "\n",
    "When scheduling reports, you have two options:\n",
    "- Backcast the report: Take the earliest date with positions in the portfolio and run the report on the positions held then with a start date before the earliest position date and an end date\n",
    " of the earliest position date. This option is ideal for snapshot portfolios.\n",
    "- Do not backcast the report: Set the start date as a date that has positions in the portfolio and an end date after that (best practice is to set it to T-1). In this case the\n",
    " report will run on positions held as of each day in the date range. This option is ideal for historical portfolios."
   ]
  },
  {
   "cell_type": "code",
   "execution_count": null,
   "metadata": {},
   "outputs": [],
   "source": [
    "pm.schedule_reports(backcast=False)\n",
    "\n",
    "print('All portfolio reports have been scheduled.')"
   ]
  },
  {
   "cell_type": "markdown",
   "metadata": {},
   "source": [
    "## Step 8: Update Custom AUM/NAV (Optional)\n",
    "The `CustomAUMDataPoint` class is used to represent custom AUM data for a specific date. A list of them can be posted to Marquee using our initialized `PortfolioManager`. If you do not upload custom AUM data for your portfolio and change your portfolio's AUM Source to `Custom AUM`, by default the \"AUM\" (which is used for calculating risk as percent values) will be your portfolio's long exposure."
   ]
  },
  {
   "cell_type": "code",
   "execution_count": null,
   "metadata": {},
   "outputs": [],
   "source": [
    "performance_report = pm.get_performance_report()\n",
    "performance_report.set_aum_source(RiskAumSource.Custom_AUM)\n",
    "custom_aum = [\n",
    "    CustomAUMDataPoint(date=dt.date(2021, 5, 1), aum=100000),\n",
    "    CustomAUMDataPoint(date=dt.date(2021, 7, 1), aum=200000),\n",
    "]\n",
    "performance_report.upload_custom_aum(custom_aum, clear_existing_data=False)\n",
    "\n",
    "print(f\"Custom AUM for '{portfolio.name} successfully uploaded'\")"
   ]
  },
  {
   "cell_type": "markdown",
   "metadata": {},
   "source": [
    "*Other questions? Reach out to the [Portfolio Analytics team](mailto:gs-marquee-analytics-support@gs.com)!*\n"
   ]
  }
 ],
 "metadata": {
  "kernelspec": {
   "display_name": "tutorial-env",
   "language": "python",
   "name": "python3"
  },
  "language_info": {
   "codemirror_mode": {
    "name": "ipython",
    "version": 3
   },
   "file_extension": ".py",
   "mimetype": "text/x-python",
   "name": "python",
   "nbconvert_exporter": "python",
   "pygments_lexer": "ipython3",
   "version": "3.9.13"
  }
 },
 "nbformat": 4,
 "nbformat_minor": 2
}
