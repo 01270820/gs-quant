{
 "cells": [
  {
   "cell_type": "markdown",
   "metadata": {
    "collapsed": false,
    "pycharm": {
     "name": "#%% md\n"
    }
   },
   "source": [
    "## Create a Portfolio with GS Quant\n",
    "\n",
    "**First define your positions and risk model:**\n",
    "\n",
    "*We will resolve all identifiers (Bloomberg IDs, SEDOLs, RICs, etc) historically on our end as of the position date*"
   ]
  },
  {
   "cell_type": "code",
   "execution_count": null,
   "metadata": {
    "collapsed": false,
    "pycharm": {
     "name": "#%%\n"
    }
   },
   "outputs": [],
   "source": [
    "import datetime as dt\n",
    "import warnings\n",
    "\n",
    "from gs_quant.markets.portfolio import Portfolio\n",
    "from gs_quant.markets.portfolio_manager import PortfolioManager\n",
    "from gs_quant.markets.position_set import Position, PositionSet\n",
    "from gs_quant.markets.report import FactorRiskReport\n",
    "from gs_quant.session import GsSession, Environment\n",
    "from gs_quant.common import PositionTag\n",
    "\n",
    "GsSession.use(Environment.PROD)\n",
    "warnings.filterwarnings(\"ignore\", category=RuntimeWarning)\n",
    "\n",
    "portfolio_position_sets = [\n",
    "    PositionSet(\n",
    "        date=dt.date(day=3, month=5, year=2022),\n",
    "        positions=[\n",
    "            Position(identifier='AAPL UW', quantity=25, tags=[PositionTag(name='Analyst', value='Marcus Goldman')]),\n",
    "            Position(identifier='GS UN', quantity=50, tags=[PositionTag(name='Analyst', value='Samuel Sachs')]),\n",
    "        ],\n",
    "    ),\n",
    "    PositionSet(\n",
    "        date=dt.date(day=1, month=7, year=2022),\n",
    "        positions=[\n",
    "            Position(identifier='AAPL UW', quantity=26, tags=[PositionTag(name='Analyst', value='Marcus Goldman')]),\n",
    "            Position(identifier='GS UN', quantity=51, tags=[PositionTag(name='Analyst', value='Samuel Sachs')]),\n",
    "        ],\n",
    "    ),\n",
    "]\n",
    "\n",
    "for pos_set in portfolio_position_sets:\n",
    "    pos_set.resolve()\n",
    "\n",
    "risk_model_id = 'BARRA_USFAST'\n",
    "\n",
    "print('Positions and risk model ID saved.')"
   ]
  },
  {
   "cell_type": "markdown",
   "metadata": {
    "collapsed": false,
    "pycharm": {
     "name": "#%% md\n"
    }
   },
   "source": [
    "**Now, we'll create a new empty portfolio...**"
   ]
  },
  {
   "cell_type": "code",
   "execution_count": null,
   "metadata": {
    "collapsed": false,
    "pycharm": {
     "name": "#%%\n"
    }
   },
   "outputs": [],
   "source": [
    "portfolio = Portfolio(name='My New Portfolio')\n",
    "portfolio.save(overwrite=True)"
   ]
  },
  {
   "cell_type": "markdown",
   "metadata": {
    "collapsed": false,
    "pycharm": {
     "name": "#%% md\n"
    }
   },
   "source": [
    "**And update your portfolio with the positions you specified earlier:**"
   ]
  },
  {
   "cell_type": "code",
   "execution_count": null,
   "metadata": {
    "collapsed": false,
    "pycharm": {
     "name": "#%%\n"
    }
   },
   "outputs": [],
   "source": [
    "pm = PortfolioManager(portfolio.id)\n",
    "pm.update_positions(portfolio_position_sets)"
   ]
  },
  {
   "cell_type": "markdown",
   "metadata": {
    "collapsed": false,
    "pycharm": {
     "name": "#%% md\n"
    }
   },
   "source": [
    "**Now you can create a factor risk report for your portfolio...**"
   ]
  },
  {
   "cell_type": "code",
   "execution_count": null,
   "metadata": {
    "collapsed": false,
    "pycharm": {
     "name": "#%%\n"
    }
   },
   "outputs": [],
   "source": [
    "risk_report = FactorRiskReport(risk_model_id=risk_model_id, fx_hedged=True)\n",
    "risk_report.set_position_source(portfolio.id)\n",
    "risk_report.save()"
   ]
  },
  {
   "cell_type": "markdown",
   "metadata": {
    "collapsed": false,
    "pycharm": {
     "name": "#%% md\n"
    }
   },
   "source": [
    "**And schedule all portfolio reports to begin calculating analytics:**"
   ]
  },
  {
   "cell_type": "code",
   "execution_count": null,
   "metadata": {
    "collapsed": false,
    "pycharm": {
     "name": "#%%\n"
    }
   },
   "outputs": [],
   "source": [
    "pm.schedule_reports()\n",
    "\n",
    "print(\n",
    "    f'Check out your new portfolio in Marquee! View it here: https://marquee.gs.com/s/portfolios/{portfolio.id}/summary'\n",
    ")"
   ]
  }
 ],
 "metadata": {
  "kernelspec": {
   "display_name": "Python 3",
   "language": "python",
   "name": "python3"
  },
  "language_info": {
   "codemirror_mode": {
    "name": "ipython",
    "version": 2
   },
   "file_extension": ".py",
   "mimetype": "text/x-python",
   "name": "python",
   "nbconvert_exporter": "python",
   "pygments_lexer": "ipython2",
   "version": "2.7.6"
  }
 },
 "nbformat": 4,
 "nbformat_minor": 0
}