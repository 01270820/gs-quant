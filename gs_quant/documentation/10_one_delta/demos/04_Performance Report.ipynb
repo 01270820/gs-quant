{
 "cells": [
  {
   "cell_type": "markdown",
   "metadata": {
    "collapsed": false
   },
   "source": [
    "### Pull Performance Report Results with GS Quant\n",
    "\n",
    "First authenticate your session and then get your portfolio's performance report:"
   ]
  },
  {
   "cell_type": "code",
   "execution_count": null,
   "metadata": {
    "collapsed": false,
    "pycharm": {
     "name": "#%%\n"
    }
   },
   "outputs": [],
   "source": [
    "import pandas as pd\n",
    "import warnings\n",
    "\n",
    "from IPython.display import display\n",
    "\n",
    "from gs_quant.markets.portfolio_manager import PortfolioManager\n",
    "from gs_quant.markets.securities import Asset, AssetIdentifier\n",
    "from gs_quant.session import GsSession, Environment\n",
    "\n",
    "GsSession.use(Environment.PROD)\n",
    "warnings.filterwarnings(\"ignore\", category=RuntimeWarning)\n",
    "\n",
    "pm = PortfolioManager('MPWQQ8B05FKPCCH6')\n",
    "performance_report = pm.get_performance_report()\n",
    "start_date = performance_report.earliest_start_date\n",
    "end_date = performance_report.latest_end_date"
   ]
  },
  {
   "cell_type": "markdown",
   "metadata": {
    "collapsed": false
   },
   "source": [
    "Now that we have our performance report, we can leverage the unique functionalities of the PerformanceReport class to pull daily exposure and PnL data:"
   ]
  },
  {
   "cell_type": "code",
   "execution_count": null,
   "metadata": {
    "collapsed": false,
    "pycharm": {
     "name": "#%%\n"
    }
   },
   "outputs": [],
   "source": [
    "all_exposures = performance_report.get_many_measures(\n",
    "    start_date=start_date, end_date=end_date, measures=['pnl', 'grossExposure', 'netExposure']\n",
    ")\n",
    "\n",
    "print(all_exposures)\n",
    "all_exposures.plot(title='Performance Breakdown')"
   ]
  },
  {
   "cell_type": "markdown",
   "metadata": {
    "collapsed": false
   },
   "source": [
    "Now let's pull Brinson Attribution data to analyze the PnL of your portfolio compared to a benchmark, which can be any equity ETF, Index, or Basket in Marquee:"
   ]
  },
  {
   "cell_type": "code",
   "execution_count": null,
   "metadata": {
    "collapsed": false,
    "pycharm": {
     "name": "#%%\n"
    }
   },
   "outputs": [],
   "source": [
    "asset = Asset.get(id_value='MXWO', id_type=AssetIdentifier.TICKER)\n",
    "\n",
    "brinson_attribution_results = performance_report.get_brinson_attribution(\n",
    "    benchmark=asset.get_marquee_id(), include_interaction=True, start_date=start_date, end_date=end_date\n",
    ")\n",
    "\n",
    "display(pd.DataFrame(brinson_attribution_results))"
   ]
  },
  {
   "cell_type": "markdown",
   "metadata": {
    "collapsed": false
   },
   "source": []
  }
 ],
 "metadata": {
  "kernelspec": {
   "display_name": "Python 3",
   "language": "python",
   "name": "python3"
  },
  "language_info": {
   "codemirror_mode": {
    "name": "ipython",
    "version": 2
   },
   "file_extension": ".py",
   "mimetype": "text/x-python",
   "name": "python",
   "nbconvert_exporter": "python",
   "pygments_lexer": "ipython2",
   "version": "2.7.6"
  }
 },
 "nbformat": 4,
 "nbformat_minor": 0
}
