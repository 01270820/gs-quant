{
 "cells": [
  {
   "cell_type": "markdown",
   "metadata": {
    "collapsed": false
   },
   "source": [
    "# Performance Reports\n",
    "\n",
    "Performance reports run historical analyses on measures like exposure and PnL for your portfolio over a specified date range."
   ]
  },
  {
   "cell_type": "markdown",
   "metadata": {
    "collapsed": false
   },
   "source": [
    "## Step 1: Authenticate and Initialize Your Session\n",
    "\n",
    "First you will import the necessary modules and add your client id and client secret."
   ]
  },
  {
   "cell_type": "code",
   "execution_count": null,
   "metadata": {
    "collapsed": false,
    "pycharm": {
     "name": "#%%\n"
    }
   },
   "outputs": [],
   "source": [
    "import datetime as dt\n",
    "import pandas as pd\n",
    "from time import sleep\n",
    "\n",
    "from gs_quant.markets.portfolio_manager import PortfolioManager\n",
    "from gs_quant.markets.report import PerformanceReport\n",
    "from gs_quant.markets.securities import Asset, AssetIdentifier\n",
    "from gs_quant.session import GsSession, Environment\n",
    "\n",
    "client = None\n",
    "secret = None\n",
    "scopes = None\n",
    "\n",
    "## External users must fill in their client ID and secret below and comment out the line below\n",
    "\n",
    "# client = 'ENTER CLIENT ID'\n",
    "# secret = 'ENTER CLIENT SECRET'\n",
    "# scopes = ('read_product_data read_financial_data modify_financial_data run_analytics',)\n",
    "\n",
    "GsSession.use(Environment.PROD, client_id=client, client_secret=secret, scopes=scopes)\n",
    "\n",
    "print('GS Session initialized.')"
   ]
  },
  {
   "cell_type": "markdown",
   "metadata": {
    "collapsed": false
   },
   "source": [
    "## Step 2: Get Performance Report\n",
    "\n",
    "When creating a Marquee portfolio, a corresponding performance report for it is automatically created. Thus, we can leverage the `PortfolioManager` class to pull all the reports associated with your portfolio and find the performance report."
   ]
  },
  {
   "cell_type": "code",
   "execution_count": null,
   "metadata": {
    "collapsed": false,
    "pycharm": {
     "name": "#%%\n"
    }
   },
   "outputs": [],
   "source": [
    "portfolio_id = 'ENTER PORTFOLIO ID'\n",
    "\n",
    "all_reports = PortfolioManager(portfolio_id).get_reports()\n",
    "performance_report = list(filter(lambda report: isinstance(report, PerformanceReport), all_reports))[0]\n",
    "\n",
    "print(f'Performance report for portfolio \"{portfolio_id}\" has been found with ID \"{performance_report.id}\".')"
   ]
  },
  {
   "cell_type": "markdown",
   "metadata": {
    "collapsed": false
   },
   "source": [
    "## Step 3: Schedule the Report\n",
    "\n",
    "When scheduling reports, you have two options:\n",
    "- Backcast the report: Take the earliest date with positions in the portfolio / basket and run the report on the positions held then with a start date before the earliest position date and an end date\n",
    " of the earliest position date\n",
    "- Do not backcast the report: Set the start date as a date that has positions in the portfolio or basket and an end date after that (best practice is to set it to T-1). In this case the\n",
    " report will run on positions held as of each day in the date range\n",
    "\n",
    "In this case, let's try scheduling the report without backcasting:"
   ]
  },
  {
   "cell_type": "code",
   "execution_count": null,
   "metadata": {
    "collapsed": false,
    "pycharm": {
     "name": "#%%\n"
    }
   },
   "outputs": [],
   "source": [
    "start_date = dt.date(2021, 1, 4)\n",
    "end_date = dt.date(2021, 8, 4)\n",
    "\n",
    "performance_report.schedule(start_date=start_date, end_date=end_date, backcast=False)\n",
    "\n",
    "print(\n",
    "    f'A new performance report for portfolio \"{performance_report.position_source_id}\" has been made with ID \"{performance_report.id}\".'\n",
    ")"
   ]
  },
  {
   "cell_type": "markdown",
   "metadata": {
    "collapsed": false
   },
   "source": [
    "## Alternative Step 3: Run the Report\n",
    "\n",
    "Depending on the size of your portfolio and the length of the schedule range, it usually takes anywhere from a couple seconds to a couple minutes for your report to finish executing.\n",
    "Only after that can you successfully pull the results from that report. If you would rather run the report and pull the results immediately after they are ready, you can leverage the `run`\n",
    "function of the `Report` class.\n",
    "\n",
    "You can run a report synchronously or asynchronously.\n",
    "- Synchronous: the Python script will stall at the `run` function line and wait for the report to finish. The `run` function will then return a dataframe with the report results\n",
    "- Asynchronously: the Python script will not stall at the `run` function line. The `run` function will return a `ReportJobFuture` object that will contain the report results when they are ready.\n",
    "\n",
    "In this example, let's run the report asynchronously and wait for the results:"
   ]
  },
  {
   "cell_type": "code",
   "execution_count": null,
   "metadata": {
    "collapsed": false,
    "pycharm": {
     "name": "#%%\n"
    }
   },
   "outputs": [],
   "source": [
    "start_date = dt.date(2021, 1, 4)\n",
    "end_date = dt.date(2021, 8, 4)\n",
    "\n",
    "report_result_future = performance_report.run(start_date=start_date, end_date=end_date, backcast=False, is_async=True)\n",
    "\n",
    "while not report_result_future.done():\n",
    "    print('Waiting for report results...')\n",
    "    sleep(5)\n",
    "\n",
    "print('\\nReport results done! Here they are...')\n",
    "print(report_result_future.result())"
   ]
  },
  {
   "cell_type": "markdown",
   "metadata": {
    "collapsed": false
   },
   "source": [
    "## Step 4: Pull Report Results\n",
    "\n",
    "Now that we have our performance report, we can leverage the unique functionalities of the `PerformanceReport` class to pull daily exposure and PnL data:"
   ]
  },
  {
   "cell_type": "code",
   "execution_count": null,
   "metadata": {
    "collapsed": false,
    "pycharm": {
     "name": "#%%\n"
    }
   },
   "outputs": [],
   "source": [
    "all_exposures = performance_report.get_many_measures(\n",
    "    measures=['pnl', 'grossExposure', 'netExposure'],\n",
    "    start_date=performance_report.earliest_start_date,\n",
    "    end_date=performance_report.latest_end_date,\n",
    ")\n",
    "\n",
    "print(all_exposures)\n",
    "all_exposures.plot(title='Performance Breakdown')"
   ]
  },
  {
   "cell_type": "markdown",
   "metadata": {
    "collapsed": false
   },
   "source": [
    "Leverage the Brinson Attribution function in the `PerformanceReport` class to compare the PnL of your portfolio to a benchmark, which can be any equity ETF, Index, or Basket in Marquee:"
   ]
  },
  {
   "cell_type": "code",
   "execution_count": null,
   "metadata": {
    "collapsed": false,
    "pycharm": {
     "name": "#%%\n"
    }
   },
   "outputs": [],
   "source": [
    "asset = Asset.get(id_value='ENTER BENCHMARK IDENTIFIER', id_type=AssetIdentifier.TICKER)\n",
    "\n",
    "brinson_attribution_results = performance_report.get_brinson_attribution(\n",
    "    benchmark=asset.get_marquee_id(),\n",
    "    include_interaction=True,\n",
    "    start_date=performance_report.earliest_start_date,\n",
    "    end_date=performance_report.latest_end_date,\n",
    ")\n",
    "\n",
    "display(pd.DataFrame(brinson_attribution_results))"
   ]
  },
  {
   "cell_type": "markdown",
   "metadata": {
    "collapsed": false
   },
   "source": [
    "### You're all set; Congrats!\n",
    "\n",
    "*Other questions? Reach out to the [Portfolio Analytics team](mailto:gs-marquee-analytics-support@gs.com)!*"
   ]
  }
 ],
 "metadata": {
  "kernelspec": {
   "display_name": "Python 3",
   "language": "python",
   "name": "python3"
  },
  "language_info": {
   "codemirror_mode": {
    "name": "ipython",
    "version": 2
   },
   "file_extension": ".py",
   "mimetype": "text/x-python",
   "name": "python",
   "nbconvert_exporter": "python",
   "pygments_lexer": "ipython2",
   "version": "2.7.6"
  }
 },
 "nbformat": 4,
 "nbformat_minor": 0
}