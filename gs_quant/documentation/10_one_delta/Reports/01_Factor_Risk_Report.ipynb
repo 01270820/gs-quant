{
 "cells": [
  {
   "cell_type": "markdown",
   "metadata": {
    "collapsed": true,
    "pycharm": {
     "name": "#%% md\n"
    }
   },
   "source": [
    "# Factor Risk Reports\n",
    "\n",
    "Factor risk reports run historical factor risk analyses for your portfolio or basket over a specified date range by leveraging a factor risk model of your choice.\n",
    "\n",
    "## Step 1: Authenticate and Initialize Your Session\n",
    "\n",
    "First you will import the necessary modules and add your client id and client secret."
   ]
  },
  {
   "cell_type": "code",
   "execution_count": null,
   "metadata": {
    "pycharm": {
     "name": "#%%\n"
    }
   },
   "outputs": [],
   "source": [
    "import datetime as dt\n",
    "from time import sleep\n",
    "\n",
    "import pandas as pd\n",
    "\n",
    "from gs_quant.markets.report import FactorRiskReport\n",
    "from gs_quant.models.risk_model import FactorRiskModel\n",
    "from gs_quant.session import GsSession, Environment\n",
    "\n",
    "client = None\n",
    "secret = None\n",
    "scopes = None\n",
    "\n",
    "## External users must fill in their client ID and secret below and comment out the line below\n",
    "# client = 'ENTER CLIENT ID'\n",
    "# secret = 'ENTER CLIENT SECRET'\n",
    "\n",
    "GsSession.use(\n",
    "    Environment.PROD,\n",
    "    client_id=client,\n",
    "    client_secret=secret,\n",
    ")\n",
    "\n",
    "print('GS Session initialized.')"
   ]
  },
  {
   "cell_type": "markdown",
   "metadata": {},
   "source": [
    "## Step 2: Create a New Factor Risk Report\n",
    "\n",
    "#### Already have a factor risk report?\n",
    "\n",
    "<i>If you want to skip creating a new report and continue this tutorial with an existing factor risk report, run the following and skip to Step 3:</i>"
   ]
  },
  {
   "cell_type": "code",
   "execution_count": 2,
   "metadata": {
    "pycharm": {
     "name": "#%%\n"
    }
   },
   "outputs": [],
   "source": [
    "risk_report_id = 'FACTOR RISK REPORT ID'\n",
    "\n",
    "risk_report = FactorRiskReport.get(risk_report_id)"
   ]
  },
  {
   "cell_type": "markdown",
   "metadata": {},
   "source": [
    "When creating a factor risk report, you must specify the risk model you would like to use.\n",
    "\n",
    "\n",
    "If you would like to see all available risk model IDs to choose from, run the following:"
   ]
  },
  {
   "cell_type": "code",
   "execution_count": null,
   "metadata": {
    "pycharm": {
     "name": "#%%\n"
    }
   },
   "outputs": [],
   "source": [
    "risk_models = FactorRiskModel.get_many()\n",
    "for risk_model in risk_models:\n",
    "    print(f'{risk_model.id}\\n')"
   ]
  },
  {
   "cell_type": "markdown",
   "metadata": {},
   "source": [
    "In this tutorial, we'll create a factor risk report leveraging the Barra USSLOW Long model. If you would like to calculate\n",
    "risk in relation to a benchmark, you can add an index, basket, or ETF to your `FactorRiskReport` object:"
   ]
  },
  {
   "cell_type": "code",
   "execution_count": null,
   "metadata": {
    "pycharm": {
     "name": "#%%\n"
    }
   },
   "outputs": [],
   "source": [
    "entity_id = 'PORTFOLIO ID'\n",
    "risk_model_id = 'RISK MODEL ID'\n",
    "\n",
    "\n",
    "risk_report = FactorRiskReport(\n",
    "    risk_model_id=risk_model_id,\n",
    "    fx_hedged=True,\n",
    ")\n",
    "\n",
    "risk_report.set_position_source(entity_id)\n",
    "risk_report.save()\n",
    "\n",
    "print(f'A new factor risk report for entity \"{entity_id}\" has been made with ID \"{risk_report.id}\".')"
   ]
  },
  {
   "cell_type": "markdown",
   "metadata": {},
   "source": [
    "## Step 3: Schedule the Report\n",
    "\n",
    "When scheduling reports, you have two options:\n",
    "- Backcast the report: Take the earliest date with positions in the portfolio / basket and run the report on the positions held then with a start date before the earliest position date and an end date\n",
    " of the earliest position date\n",
    "- Do not backcast the report: Set the start date as a date that has positions in the portfolio or basket and an end date after that (best practice is to set it to T-1). In this case the\n",
    " report will run on positions held as of each day in the date range\n",
    "\n",
    "In this case, let's try scheduling the report without backcasting:\n",
    "\n",
    "### Note:\n",
    "Cannot Schedule backcasted report with no position sets on the report job end date"
   ]
  },
  {
   "cell_type": "code",
   "execution_count": null,
   "metadata": {
    "pycharm": {
     "name": "#%%\n"
    }
   },
   "outputs": [],
   "source": [
    "start_date = dt.date(2025, 4, 1)\n",
    "end_date = dt.date(2025, 4, 17)\n",
    "\n",
    "risk_report.schedule(start_date=start_date, end_date=end_date, backcast=True)\n",
    "\n",
    "print(f'Report \"{risk_report.id}\" has been scheduled.')"
   ]
  },
  {
   "cell_type": "markdown",
   "metadata": {},
   "source": [
    "## Alternative Step 3: Run the Report\n",
    "\n",
    "Depending on the size of your portfolio and the length of the schedule range, it usually takes anywhere from a couple seconds to a couple minutes for your report to finish executing.\n",
    "Only after that can you successfully pull the results from that report. If you would rather run the report and pull the results immediately after they are ready, you can leverage the `run`\n",
    "function.\n",
    "\n",
    "You can run a report synchronously or asynchronously.\n",
    "- Synchronous: the Python script will stall at the `run` function line and wait for the report to finish. The `run` function will then return a dataframe with the report results\n",
    "- Asynchronously: the Python script will not stall at the `run` function line. The `run` function will return a `ReportJobFuture` object that will contain the report results when they are ready.\n",
    "\n",
    "In this example, let's run the report asynchronously and wait for the results:\n",
    "\n",
    "### Note:\n",
    "Cannot Schedule historical report with no position sets before the report job start date"
   ]
  },
  {
   "cell_type": "code",
   "execution_count": null,
   "metadata": {
    "pycharm": {
     "name": "#%%\n"
    }
   },
   "outputs": [],
   "source": [
    "start_date = dt.date(2025, 4, 2)\n",
    "end_date = dt.date(2025, 4, 7)\n",
    "\n",
    "report_result_future = risk_report.run(start_date=start_date, end_date=end_date, backcast=False, is_async=True)\n",
    "\n",
    "while not report_result_future.done():\n",
    "    print('Waiting for report results...')\n",
    "    sleep(5)\n",
    "\n",
    "print('\\nReport results done! Here they are...')\n",
    "print(report_result_future.result())"
   ]
  },
  {
   "cell_type": "code",
   "execution_count": null,
   "metadata": {},
   "outputs": [],
   "source": [
    "start_date = dt.date(2025, 2, 6)\n",
    "end_date = dt.date(2025, 3, 31)\n",
    "\n",
    "report_result_future = risk_report.run(start_date=start_date, end_date=end_date, backcast=False, is_async=True)\n",
    "\n",
    "while not report_result_future.done():\n",
    "    print('Waiting for report results...')\n",
    "    sleep(5)\n",
    "\n",
    "print('\\nReport results done! Here they are...')\n",
    "print(report_result_future.result())"
   ]
  },
  {
   "cell_type": "markdown",
   "metadata": {},
   "source": [
    "## Step 4: Pull Report Results\n",
    "\n",
    "Now that we have our completed factor risk report, we can leverage the unique functionalities of the `FactorRiskReport` class to pull attribution and risk data. \n",
    "\n",
    "This `get_results` function will return the date indexed data as shown in the dummy table below:\n",
    "\n",
    "|date      |factor  |factorCategory|exposure|pnl|dailyRisk|annualRisk|proportionOfRisk|relativeMarginalContributionToRisk|aum|marginalContributionToRiskPercent|\n",
    "|----------|------------|---------------|-----------|--------------|--------------|------------|------------|-------------|----|-------|\n",
    "|2025-04-10|\tSpecific|\tAggregations|\t0.000000|\t-186.921292|\t116.350041|\t1846.999635|\t0.235141|\t895.635113|\t0.0|\tNaN|\n",
    "|2025-04-11|\tSpecific|\tAggregations|\t0.000000|\t-17.822047|\t117.014467|\t1857.547084|\t0.230338|\t891.503322|\t0.0|\tNaN|\n",
    "|2025-04-14|\tSpecific|\tAggregations|\t0.000000|\t73.498315|\t118.745143|\t1885.020702|\t0.225550|\t895.235643|\t0.0|\tNaN|\n",
    "|2025-04-15|\tSpecific|\tAggregations|\t0.000000|\t58.400802|\t119.321131|\t1894.164234|\t0.223980|\t896.442371|\t2000000.0|\t0.044822|\n",
    "|2025-04-16|\tSpecific|\tAggregations|\t0.000000|\t23.749292|\t116.631423|\t1851.466441|\t0.222957|\t874.230618|\t1000000.0|\t0.087423|"
   ]
  },
  {
   "cell_type": "code",
   "execution_count": null,
   "metadata": {
    "pycharm": {
     "name": "#%%\n"
    }
   },
   "outputs": [],
   "source": [
    "factor_and_total_results = risk_report.get_results(\n",
    "    factors=['Factor', 'Specific'], start_date=dt.date(2025, 4, 10), end_date=dt.date(2025, 4, 17)\n",
    ")\n",
    "factor_and_total_results"
   ]
  },
  {
   "cell_type": "markdown",
   "metadata": {},
   "source": [
    "### Quick Tip & Plotting!\n",
    "You can pull historical data on factor, specific, and total PnL:"
   ]
  },
  {
   "cell_type": "code",
   "execution_count": null,
   "metadata": {
    "pycharm": {
     "name": "#%%\n"
    }
   },
   "outputs": [],
   "source": [
    "pnl = risk_report.get_factor_pnl(factor_names=['Factor', 'Specific', 'Total'], start_date=start_date, end_date=end_date)\n",
    "pnl.set_index('Date', inplace=True)\n",
    "pnl.index = pd.to_datetime(pnl.index)\n",
    "\n",
    "pnl.cumsum().plot(title='Risk Attribution Breakdown')"
   ]
  },
  {
   "cell_type": "markdown",
   "metadata": {},
   "source": [
    "Now let's pull the breakdown of proportion of risk among the different factor types over time:"
   ]
  },
  {
   "cell_type": "code",
   "execution_count": null,
   "metadata": {
    "pycharm": {
     "name": "#%%\n"
    }
   },
   "outputs": [],
   "source": [
    "prop_of_risk = risk_report.get_factor_proportion_of_risk(\n",
    "    factor_names=['Market', 'Style', 'Industry', 'Country'], start_date=start_date, end_date=end_date\n",
    ")\n",
    "prop_of_risk.set_index('Date', inplace=True)\n",
    "prop_of_risk.index = pd.to_datetime(prop_of_risk.index)\n",
    "\n",
    "prop_of_risk.plot(title='Factor Proportion of Risk Breakdown')"
   ]
  },
  {
   "cell_type": "markdown",
   "metadata": {},
   "source": [
    "**Please find more functions to pull specific factor risk data available [here](https://developer.gs.com/docs/gsquant/api/classes/gs_quant.markets.report.FactorRiskReport.html#gs_quant.markets.report.FactorRiskReport).**"
   ]
  },
  {
   "cell_type": "markdown",
   "metadata": {},
   "source": [
    "### You're all set; Congrats!\n",
    "\n",
    "*Other questions? Reach out to the [Portfolio Analytics team](mailto:gs-marquee-analytics-support@gs.com)!*\n"
   ]
  }
 ],
 "metadata": {
  "kernelspec": {
   "display_name": "Python 3",
   "language": "python",
   "name": "python3"
  },
  "language_info": {
   "codemirror_mode": {
    "name": "ipython",
    "version": 3
   },
   "file_extension": ".py",
   "mimetype": "text/x-python",
   "name": "python",
   "nbconvert_exporter": "python",
   "pygments_lexer": "ipython3",
   "version": "3.9.13"
  }
 },
 "nbformat": 4,
 "nbformat_minor": 1
}
