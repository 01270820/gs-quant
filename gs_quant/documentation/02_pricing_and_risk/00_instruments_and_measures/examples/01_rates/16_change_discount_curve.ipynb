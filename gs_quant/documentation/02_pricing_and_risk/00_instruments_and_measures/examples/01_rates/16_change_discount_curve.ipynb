{
 "cells": [
  {
   "cell_type": "code",
   "execution_count": null,
   "metadata": {
    "collapsed": false,
    "jupyter": {
     "outputs_hidden": false
    },
    "pycharm": {
     "name": "#%%\n"
    }
   },
   "outputs": [],
   "source": [
    "from gs_quant.common import PayReceive, Currency\n",
    "from gs_quant.instrument import IRSwaption\n",
    "from gs_quant.session import Environment, GsSession\n",
    "from gs_quant.markets import PricingContext\n",
    "import datetime as dt"
   ]
  },
  {
   "cell_type": "code",
   "execution_count": null,
   "metadata": {},
   "outputs": [],
   "source": [
    "# external users should substitute their client id and secret\n",
    "GsSession.use(Environment.PROD, client_id=None, client_secret=None, scopes=('run_analytics',))"
   ]
  },
  {
   "cell_type": "code",
   "execution_count": null,
   "metadata": {},
   "outputs": [],
   "source": [
    "swaption = IRSwaption(PayReceive.Receive, '5y', Currency.EUR, settlement='Cash.CollatCash')\n",
    "swaption.resolve()"
   ]
  },
  {
   "cell_type": "code",
   "execution_count": null,
   "metadata": {
    "tags": [
     "CSA"
    ]
   },
   "outputs": [],
   "source": [
    "# price using default OIS rate\n",
    "with PricingContext(pricing_date=dt.date.today(), csa_term='EUR-OIS'):\n",
    "    price = swaption.price()\n",
    "\n",
    "print(price.result())"
   ]
  },
  {
   "cell_type": "code",
   "execution_count": null,
   "metadata": {},
   "outputs": [],
   "source": [
    "# price using ESTR\n",
    "with PricingContext(pricing_date=dt.date.today(), csa_term='EUR-EuroSTR'):\n",
    "    price = swaption.price()\n",
    "\n",
    "print(price.result())"
   ]
  }
 ],
 "metadata": {
  "kernelspec": {
   "display_name": "Python 3 (ipykernel)",
   "language": "python",
   "name": "python3"
  },
  "language_info": {
   "codemirror_mode": {
    "name": "ipython",
    "version": 3
   },
   "file_extension": ".py",
   "mimetype": "text/x-python",
   "name": "python",
   "nbconvert_exporter": "python",
   "pygments_lexer": "ipython3",
   "version": "3.11.5"
  }
 },
 "nbformat": 4,
 "nbformat_minor": 4
}
