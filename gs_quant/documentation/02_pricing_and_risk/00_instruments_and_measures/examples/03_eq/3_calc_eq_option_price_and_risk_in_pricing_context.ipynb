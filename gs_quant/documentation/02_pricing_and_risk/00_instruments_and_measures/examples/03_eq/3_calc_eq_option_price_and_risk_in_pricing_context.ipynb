{
 "cells": [
  {
   "cell_type": "code",
   "execution_count": null,
   "metadata": {},
   "outputs": [],
   "source": [
    "from datetime import date\n",
    "from gs_quant.instrument import EqOption, OptionType, OptionStyle\n",
    "from gs_quant.markets import PricingContext\n",
    "from gs_quant.session import Environment, GsSession"
   ]
  },
  {
   "cell_type": "code",
   "execution_count": null,
   "metadata": {},
   "outputs": [],
   "source": [
    "# external users should substitute their client id and secret\n",
    "GsSession.use(Environment.PROD, client_id=None, client_secret=None, scopes=('run_analytics',))"
   ]
  },
  {
   "cell_type": "code",
   "execution_count": null,
   "metadata": {},
   "outputs": [],
   "source": [
    "# create Option\n",
    "eq_option = EqOption(\n",
    "    '.STOXX50E',\n",
    "    expiration_date='3m',\n",
    "    strike_price='ATMS',\n",
    "    option_type=OptionType.Call,\n",
    "    option_style=OptionStyle.European,\n",
    ")\n",
    "eq_option.as_dict()"
   ]
  },
  {
   "cell_type": "code",
   "execution_count": null,
   "metadata": {
    "tags": [
     "Contexts - PricingContext"
    ]
   },
   "outputs": [],
   "source": [
    "# price as of a specific date using LDN close\n",
    "with PricingContext(pricing_date=date(2020, 2, 20), market_data_location='LDN'):\n",
    "    price = eq_option.price()"
   ]
  },
  {
   "cell_type": "code",
   "execution_count": null,
   "metadata": {},
   "outputs": [],
   "source": [
    "# get the result\n",
    "price_result = price.result()\n",
    "print(price_result)"
   ]
  },
  {
   "cell_type": "code",
   "execution_count": null,
   "metadata": {},
   "outputs": [],
   "source": [
    "# calculate the delta as of a specific date using NYC close\n",
    "with PricingContext(pricing_date=date(2020, 2, 20), market_data_location='NYC'):\n",
    "    delta = eq_option.calc(risk.EqDelta)"
   ]
  },
  {
   "cell_type": "code",
   "execution_count": null,
   "metadata": {},
   "outputs": [],
   "source": [
    "# get the result\n",
    "delta_results = delta.result()\n",
    "print(delta_results)"
   ]
  }
 ],
 "metadata": {
  "kernelspec": {
   "display_name": "Python 3 (ipykernel)",
   "language": "python",
   "name": "python3"
  },
  "language_info": {
   "codemirror_mode": {
    "name": "ipython",
    "version": 3
   },
   "file_extension": ".py",
   "mimetype": "text/x-python",
   "name": "python",
   "nbconvert_exporter": "python",
   "pygments_lexer": "ipython3",
   "version": "3.11.5"
  },
  "pycharm": {
   "stem_cell": {
    "cell_type": "raw",
    "metadata": {
     "collapsed": false
    },
    "source": []
   }
  }
 },
 "nbformat": 4,
 "nbformat_minor": 4
}
