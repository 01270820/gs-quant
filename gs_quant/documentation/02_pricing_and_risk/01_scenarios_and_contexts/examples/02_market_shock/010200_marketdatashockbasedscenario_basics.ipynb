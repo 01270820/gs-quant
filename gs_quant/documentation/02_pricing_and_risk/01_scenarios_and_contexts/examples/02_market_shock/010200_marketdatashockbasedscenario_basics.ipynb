{
 "cells": [
  {
   "cell_type": "code",
   "execution_count": 1,
   "metadata": {
    "collapsed": false,
    "pycharm": {
     "is_executing": false,
     "name": "#%%\n"
    }
   },
   "outputs": [],
   "source": [
    "# The gs_quant risk package contains Scenarios, which allow the user to perform scenario analysis on a set of trades\n",
    "# 'MarketDataShockBasedScenario' is the most flexible scenario, which allows users to construct bespoke market data\n",
    "# scenarios\n",
    "from gs_quant.risk import MarketDataShockBasedScenario\n",
    "\n",
    "MarketDataShockBasedScenario?"
   ]
  },
  {
   "cell_type": "code",
   "execution_count": 3,
   "metadata": {
    "collapsed": false,
    "pycharm": {
     "is_executing": false,
     "name": "#%%\n"
    }
   },
   "outputs": [],
   "source": [
    "# MarketDataShockBasedScenarios has one property: 'shocks', a mapping of MarketDataPattern to MarketDataShock\n",
    "MarketDataShockBasedScenario.shocks"
   ]
  },
  {
   "cell_type": "code",
   "execution_count": null,
   "metadata": {
    "collapsed": false,
    "pycharm": {
     "name": "#%%\n"
    }
   },
   "outputs": [],
   "source": [
    "# The MarketDataPattern defines a collection of observable Market Data. Examples for the MarketDataPattern class are\n",
    "# in gs_quant/examples/01_pricing_and_risk/01_market_objects."
   ]
  }
 ],
 "metadata": {
  "kernelspec": {
   "display_name": "Python 3",
   "language": "python",
   "name": "python3"
  },
  "language_info": {
   "codemirror_mode": {
    "name": "ipython",
    "version": 2
   },
   "file_extension": ".py",
   "mimetype": "text/x-python",
   "name": "python",
   "nbconvert_exporter": "python",
   "pygments_lexer": "ipython2",
   "version": "2.7.6"
  },
  "pycharm": {
   "stem_cell": {
    "cell_type": "raw",
    "metadata": {
     "collapsed": false
    },
    "source": []
   }
  }
 },
 "nbformat": 4,
 "nbformat_minor": 0
}