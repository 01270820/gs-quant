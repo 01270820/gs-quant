{
 "cells": [
  {
   "cell_type": "markdown",
   "id": "d1e67001",
   "metadata": {},
   "source": [
    "# Contents"
   ]
  },
  {
   "cell_type": "markdown",
   "id": "d1e67002",
   "metadata": {},
   "source": [
    "## 📂 00_data"
   ]
  },
  {
   "cell_type": "markdown",
   "id": "d1e67003",
   "metadata": {},
   "source": [
    "- 📁 **00_datasets**\n",
    "  - 📁 examples\n",
    "    - 📄 [0000_query_dataset.ipynb](00_data/00_datasets/examples/0000_query_dataset.ipynb)\n",
    "    - 📄 [0001_get_dataset_coverage.ipynb](00_data/00_datasets/examples/0001_get_dataset_coverage.ipynb)\n",
    "    - 📄 [0002_using_data_contexts.ipynb](00_data/00_datasets/examples/0002_using_data_contexts.ipynb)\n",
    "    - 📄 [0003_get_data_using_coordinate.ipynb](00_data/00_datasets/examples/0003_get_data_using_coordinate.ipynb)\n",
    "    - 📄 [0004_get_all_assets_from_region.ipynb](00_data/00_datasets/examples/0004_get_all_assets_from_region.ipynb)\n",
    "    - 📄 [0005_get_vol_surface.ipynb](00_data/00_datasets/examples/0005_get_vol_surface.ipynb)\n",
    "    - 📄 [0006_ptp_dataset.ipynb](00_data/00_datasets/examples/0006_ptp_dataset.ipynb)\n",
    "    - 📄 [0007_query_fxvol.script.ipynb](00_data/00_datasets/examples/0007_query_fxvol.script.ipynb)\n",
    "    - 📄 [0008_s3_partners_short_interest.ipynb](00_data/00_datasets/examples/0008_s3_partners_short_interest.ipynb)\n",
    "- 📁 **01_analytics**\n",
    "  - 📁 examples\n",
    "    - 📄 [0000_charting_data.ipynb](00_data/01_analytics/examples/0000_charting_data.ipynb)\n",
    "    - 📄 [0001_exporting_data.ipynb](00_data/01_analytics/examples/0001_exporting_data.ipynb)\n",
    "- 📁 **02_workspaces**\n",
    "  - 📁 examples\n",
    "    - 📄 [0001_creating_a_workspace.ipynb](00_data/02_workspaces/examples/0001_creating_a_workspace.ipynb)\n",
    "- 📁 **03_visualizations**\n",
    "  - 📁 examples\n",
    "    - 📄 [0001_creating_a_visualization.ipynb](00_data/03_visualizations/examples/0001_creating_a_visualization.ipynb)\n",
    "- 📁 **04_screens**\n",
    "  - 📁 examples\n",
    "    - 📄 [00_base_screener_api_tutorial.ipynb](00_data/04_screens/examples/00_base_screener_api_tutorial.ipynb)\n",
    "    - 📄 [01_screen_api_tutorial.ipynb](00_data/04_screens/examples/01_screen_api_tutorial.ipynb)\n",
    "- 📁 **covid**\n",
    "  - 📄 [Comparing, Reconciling, and Combining COVID-19 Data Sources.ipynb](00_data/covid/Comparing,%20Reconciling,%20and%20Combining%20COVID-19%20Data%20Sources.ipynb)\n"
   ]
  },
  {
   "cell_type": "markdown",
   "id": "d1e67004",
   "metadata": {},
   "source": [
    "## 📂 01_markets"
   ]
  },
  {
   "cell_type": "markdown",
   "id": "d1e67005",
   "metadata": {},
   "source": [
    "- 📁 **00_securities**\n",
    "  - 📁 examples\n",
    "    - 📄 [0000_get_an_asset_from_identifier.ipynb](01_markets/00_securities/examples/0000_get_an_asset_from_identifier.ipynb)\n",
    "- 📁 **02_rdates**\n",
    "  - 📁 examples\n",
    "    - 📄 [0000_get_a_date_relative_from_today.ipynb](01_markets/02_rdates/examples/0000_get_a_date_relative_from_today.ipynb)\n",
    "    - 📄 [0001_get_a_date_relative_from_a_base_date.ipynb](01_markets/02_rdates/examples/0001_get_a_date_relative_from_a_base_date.ipynb)\n",
    "    - 📄 [0002_get_a_date_relative_using_pricing_context.ipynb](01_markets/02_rdates/examples/0002_get_a_date_relative_using_pricing_context.ipynb)\n",
    "    - 📄 [0003_get_a_date_using_a_business_day_calendar.ipynb](01_markets/02_rdates/examples/0003_get_a_date_using_a_business_day_calendar.ipynb)\n",
    "    - 📄 [0004_chaining_relativedate_rules.ipynb](01_markets/02_rdates/examples/0004_chaining_relativedate_rules.ipynb)\n",
    "    - 📄 [0005_passing_your_own_holiday_calendar.ipynb](01_markets/02_rdates/examples/0005_passing_your_own_holiday_calendar.ipynb)\n"
   ]
  },
  {
   "cell_type": "markdown",
   "id": "d1e67006",
   "metadata": {},
   "source": [
    "## 📂 02_pricing_and_risk"
   ]
  },
  {
   "cell_type": "markdown",
   "id": "d1e67007",
   "metadata": {},
   "source": [
    "- 📁 **00_instruments_and_measures**\n",
    "  - 📁 examples\n",
    "    - 📁 00_instrument_basics\n",
    "      - 📄 [0000_view-trade-properties.ipynb](02_pricing_and_risk/00_instruments_and_measures/examples/00_instrument_basics/0000_view-trade-properties.ipynb)\n",
    "      - 📄 [0001_get-a-property.ipynb](02_pricing_and_risk/00_instruments_and_measures/examples/00_instrument_basics/0001_get-a-property.ipynb)\n",
    "      - 📄 [0002_set-a-property.ipynb](02_pricing_and_risk/00_instruments_and_measures/examples/00_instrument_basics/0002_set-a-property.ipynb)\n",
    "      - 📄 [0003_enum-property.ipynb](02_pricing_and_risk/00_instruments_and_measures/examples/00_instrument_basics/0003_enum-property.ipynb)\n",
    "      - 📄 [0004_resolve-a-trade.ipynb](02_pricing_and_risk/00_instruments_and_measures/examples/00_instrument_basics/0004_resolve-a-trade.ipynb)\n",
    "      - 📄 [0005_market-data.ipynb](02_pricing_and_risk/00_instruments_and_measures/examples/00_instrument_basics/0005_market-data.ipynb)\n",
    "      - 📄 [0006_float-with-info.ipynb](02_pricing_and_risk/00_instruments_and_measures/examples/00_instrument_basics/0006_float-with-info.ipynb)\n",
    "    - 📁 01_rates\n",
    "      - 📄 [000100_view_swap_definition.ipynb](02_pricing_and_risk/00_instruments_and_measures/examples/01_rates/000100_view_swap_definition.ipynb)\n",
    "      - 📄 [000101_swap_trade_construction.ipynb](02_pricing_and_risk/00_instruments_and_measures/examples/01_rates/000101_swap_trade_construction.ipynb)\n",
    "      - 📄 [000102_calc_swap_price.ipynb](02_pricing_and_risk/00_instruments_and_measures/examples/01_rates/000102_calc_swap_price.ipynb)\n",
    "      - 📄 [000103_calc_swap_risk_measures.ipynb](02_pricing_and_risk/00_instruments_and_measures/examples/01_rates/000103_calc_swap_risk_measures.ipynb)\n",
    "      - 📄 [000104_calc_swap_price_in_pricing_context.ipynb](02_pricing_and_risk/00_instruments_and_measures/examples/01_rates/000104_calc_swap_price_in_pricing_context.ipynb)\n",
    "      - 📄 [000105_calc_swap_price_historically.ipynb](02_pricing_and_risk/00_instruments_and_measures/examples/01_rates/000105_calc_swap_price_historically.ipynb)\n",
    "      - 📄 [000106_calc_swap_risks_in_pricing_context.ipynb](02_pricing_and_risk/00_instruments_and_measures/examples/01_rates/000106_calc_swap_risks_in_pricing_context.ipynb)\n",
    "      - 📄 [000107_calc_swap_risk_historically.ipynb](02_pricing_and_risk/00_instruments_and_measures/examples/01_rates/000107_calc_swap_risk_historically.ipynb)\n",
    "      - 📄 [000108_swaption_trade_construction.ipynb](02_pricing_and_risk/00_instruments_and_measures/examples/01_rates/000108_swaption_trade_construction.ipynb)\n",
    "      - 📄 [000109_straddle_price.ipynb](02_pricing_and_risk/00_instruments_and_measures/examples/01_rates/000109_straddle_price.ipynb)\n",
    "      - 📄 [000110_midcurve_swaption_price.ipynb](02_pricing_and_risk/00_instruments_and_measures/examples/01_rates/000110_midcurve_swaption_price.ipynb)\n",
    "      - 📄 [000111_swap_future_cashflows.ipynb](02_pricing_and_risk/00_instruments_and_measures/examples/01_rates/000111_swap_future_cashflows.ipynb)\n",
    "      - 📄 [000112_calc_xccy_swap_price.ipynb](02_pricing_and_risk/00_instruments_and_measures/examples/01_rates/000112_calc_xccy_swap_price.ipynb)\n",
    "      - 📄 [000113_calc_xccy_swap_risk_measures.ipynb](02_pricing_and_risk/00_instruments_and_measures/examples/01_rates/000113_calc_xccy_swap_risk_measures.ipynb)\n",
    "      - 📄 [000114_spread_option_grid_pricing.ipynb](02_pricing_and_risk/00_instruments_and_measures/examples/01_rates/000114_spread_option_grid_pricing.ipynb)\n",
    "      - 📄 [000115_change_discount_curve.ipynb](02_pricing_and_risk/00_instruments_and_measures/examples/01_rates/000115_change_discount_curve.ipynb)\n",
    "      - 📄 [000116_calc_xccy_swap_cashflows.ipynb](02_pricing_and_risk/00_instruments_and_measures/examples/01_rates/000116_calc_xccy_swap_cashflows.ipynb)\n",
    "      - 📄 [000117_solve_present_value.ipynb](02_pricing_and_risk/00_instruments_and_measures/examples/01_rates/000117_solve_present_value.ipynb)\n",
    "      - 📄 [000118_solve_delta.ipynb](02_pricing_and_risk/00_instruments_and_measures/examples/01_rates/000118_solve_delta.ipynb)\n",
    "      - 📄 [000119_fix_float_legs_price.ipynb](02_pricing_and_risk/00_instruments_and_measures/examples/01_rates/000119_fix_float_legs_price.ipynb)\n",
    "      - 📄 [000120_asset_swap_definition.ipynb](02_pricing_and_risk/00_instruments_and_measures/examples/01_rates/000120_asset_swap_definition.ipynb)\n",
    "    - 📁 02_fx\n",
    "      - 📄 [000200_fx_fwd_trade_construction.ipynb](02_pricing_and_risk/00_instruments_and_measures/examples/02_fx/000200_fx_fwd_trade_construction.ipynb)\n",
    "      - 📄 [000201_fx_option_trade_construction.ipynb](02_pricing_and_risk/00_instruments_and_measures/examples/02_fx/000201_fx_option_trade_construction.ipynb)\n",
    "      - 📄 [000202_fx_vol_swap_trade_construction.ipynb](02_pricing_and_risk/00_instruments_and_measures/examples/02_fx/000202_fx_vol_swap_trade_construction.ipynb)\n",
    "      - 📄 [000203_fx_binary_trade_construction.ipynb](02_pricing_and_risk/00_instruments_and_measures/examples/02_fx/000203_fx_binary_trade_construction.ipynb)\n",
    "      - 📄 [000204_calc_option_measures.ipynb](02_pricing_and_risk/00_instruments_and_measures/examples/02_fx/000204_calc_option_measures.ipynb)\n",
    "      - 📄 [000205_fx_var_swap_trade_construction.ipynb](02_pricing_and_risk/00_instruments_and_measures/examples/02_fx/000205_fx_var_swap_trade_construction.ipynb)\n",
    "      - 📄 [000206_fx_knockout_trade_construction.ipynb](02_pricing_and_risk/00_instruments_and_measures/examples/02_fx/000206_fx_knockout_trade_construction.ipynb)\n",
    "      - 📄 [000207_fx_double_touch_trade_construction.ipynb](02_pricing_and_risk/00_instruments_and_measures/examples/02_fx/000207_fx_double_touch_trade_construction.ipynb)\n",
    "      - 📄 [000208_fx_delta_measures.ipynb](02_pricing_and_risk/00_instruments_and_measures/examples/02_fx/000208_fx_delta_measures.ipynb)\n",
    "    - 📁 03_eq\n",
    "      - 📄 [000300_calc_eq_option_price.ipynb](02_pricing_and_risk/00_instruments_and_measures/examples/03_eq/000300_calc_eq_option_price.ipynb)\n",
    "      - 📄 [000301_calc_eq_option_risk_measures.ipynb](02_pricing_and_risk/00_instruments_and_measures/examples/03_eq/000301_calc_eq_option_risk_measures.ipynb)\n",
    "      - 📄 [000302_calc_eq_option_price_in_pricing_context.ipynb](02_pricing_and_risk/00_instruments_and_measures/examples/03_eq/000302_calc_eq_option_price_in_pricing_context.ipynb)\n",
    "      - 📄 [000303_calc_eq_option_risks_in_pricing_context.ipynb](02_pricing_and_risk/00_instruments_and_measures/examples/03_eq/000303_calc_eq_option_risks_in_pricing_context.ipynb)\n",
    "      - 📄 [000304_calc_eq_option_price_historically.ipynb](02_pricing_and_risk/00_instruments_and_measures/examples/03_eq/000304_calc_eq_option_price_historically.ipynb)\n",
    "      - 📄 [000305_calc_eq_option_risks_historically.ipynb](02_pricing_and_risk/00_instruments_and_measures/examples/03_eq/000305_calc_eq_option_risks_historically.ipynb)\n",
    "      - 📄 [000306_calc_eq_option_portfolio_greeks.ipynb](02_pricing_and_risk/00_instruments_and_measures/examples/03_eq/000306_calc_eq_option_portfolio_greeks.ipynb)\n",
    "    - 📁 04_credit\n",
    "      - 📄 [000400_cdindex_option_price.ipynb](02_pricing_and_risk/00_instruments_and_measures/examples/04_credit/000400_cdindex_option_price.ipynb)\n",
    "      - 📄 [000401_cdindex_option_xover_payer_spread.ipynb](02_pricing_and_risk/00_instruments_and_measures/examples/04_credit/000401_cdindex_option_xover_payer_spread.ipynb)\n",
    "      - 📄 [000402_cdindex_option_risks.ipynb](02_pricing_and_risk/00_instruments_and_measures/examples/04_credit/000402_cdindex_option_risks.ipynb)\n",
    "      - 📄 [000403_cdindex_price.ipynb](02_pricing_and_risk/00_instruments_and_measures/examples/04_credit/000403_cdindex_price.ipynb)\n",
    "      - 📄 [000404_cdindex_roll_price.ipynb](02_pricing_and_risk/00_instruments_and_measures/examples/04_credit/000404_cdindex_roll_price.ipynb)\n",
    "  - 📁 tutorials\n",
    "    - 📄 [Instruments.ipynb](02_pricing_and_risk/00_instruments_and_measures/tutorials/Instruments.ipynb)\n",
    "    - 📄 [Measures.ipynb](02_pricing_and_risk/00_instruments_and_measures/tutorials/Measures.ipynb)\n",
    "- 📁 **01_scenarios_and_contexts**\n",
    "  - 📁 examples\n",
    "    - 📁 00_market_objects\n",
    "      - 📄 [010000_market_data_in_gs_quant.ipynb](02_pricing_and_risk/01_scenarios_and_contexts/examples/00_market_objects/010000_market_data_in_gs_quant.ipynb)\n",
    "      - 📄 [010001_market_objects.ipynb](02_pricing_and_risk/01_scenarios_and_contexts/examples/00_market_objects/010001_market_objects.ipynb)\n",
    "      - 📄 [010002_marketdatapattern_basics.ipynb](02_pricing_and_risk/01_scenarios_and_contexts/examples/00_market_objects/010002_marketdatapattern_basics.ipynb)\n",
    "      - 📄 [010003_marketdatapattern_construction_ir.ipynb](02_pricing_and_risk/01_scenarios_and_contexts/examples/00_market_objects/010003_marketdatapattern_construction_ir.ipynb)\n",
    "      - 📄 [010004_marketdatapattern_construction_ir_vol.ipynb](02_pricing_and_risk/01_scenarios_and_contexts/examples/00_market_objects/010004_marketdatapattern_construction_ir_vol.ipynb)\n",
    "      - 📄 [010005_marketdatapattern_construction_ir_basis.ipynb](02_pricing_and_risk/01_scenarios_and_contexts/examples/00_market_objects/010005_marketdatapattern_construction_ir_basis.ipynb)\n",
    "      - 📄 [010006_marketdatapattern_construction_ir_xc.ipynb](02_pricing_and_risk/01_scenarios_and_contexts/examples/00_market_objects/010006_marketdatapattern_construction_ir_xc.ipynb)\n",
    "      - 📄 [010007_marketdatapattern_construction_fx.ipynb](02_pricing_and_risk/01_scenarios_and_contexts/examples/00_market_objects/010007_marketdatapattern_construction_fx.ipynb)\n",
    "      - 📄 [010008_marketdatapattern_construction_fx_fwd.ipynb](02_pricing_and_risk/01_scenarios_and_contexts/examples/00_market_objects/010008_marketdatapattern_construction_fx_fwd.ipynb)\n",
    "      - 📄 [010009_marketdatapattern_construction_fx_vol.ipynb](02_pricing_and_risk/01_scenarios_and_contexts/examples/00_market_objects/010009_marketdatapattern_construction_fx_vol.ipynb)\n",
    "      - 📄 [010010_marketdatapattern_construction_cd.ipynb](02_pricing_and_risk/01_scenarios_and_contexts/examples/00_market_objects/010010_marketdatapattern_construction_cd.ipynb)\n",
    "    - 📁 01_rollfwd_shock\n",
    "      - 📄 [010100_rollfwd_for_trade.ipynb](02_pricing_and_risk/01_scenarios_and_contexts/examples/01_rollfwd_shock/010100_rollfwd_for_trade.ipynb)\n",
    "      - 📄 [010101_basic_use_of_rollfwd_scenario.ipynb](02_pricing_and_risk/01_scenarios_and_contexts/examples/01_rollfwd_shock/010101_basic_use_of_rollfwd_scenario.ipynb)\n",
    "      - 📄 [010102_rollfwd-showing-lifecycling-effects-on-swaps-and-swaptions.ipynb](02_pricing_and_risk/01_scenarios_and_contexts/examples/01_rollfwd_shock/010102_rollfwd-showing-lifecycling-effects-on-swaps-and-swaptions.ipynb)\n",
    "      - 📄 [010103_yield_curves_with_rollfwd.ipynb](02_pricing_and_risk/01_scenarios_and_contexts/examples/01_rollfwd_shock/010103_yield_curves_with_rollfwd.ipynb)\n",
    "      - 📄 [010104_rollfwd_swap_fwd_rates.ipynb](02_pricing_and_risk/01_scenarios_and_contexts/examples/01_rollfwd_shock/010104_rollfwd_swap_fwd_rates.ipynb)\n",
    "    - 📁 02_market_shock\n",
    "      - 📄 [010200_marketdatashockbasedscenario_basics.ipynb](02_pricing_and_risk/01_scenarios_and_contexts/examples/02_market_shock/010200_marketdatashockbasedscenario_basics.ipynb)\n",
    "      - 📄 [010201_rate_spot_shock.ipynb](02_pricing_and_risk/01_scenarios_and_contexts/examples/02_market_shock/010201_rate_spot_shock.ipynb)\n",
    "      - 📄 [010203_rate_vol_shock.ipynb](02_pricing_and_risk/01_scenarios_and_contexts/examples/02_market_shock/010203_rate_vol_shock.ipynb)\n",
    "      - 📄 [010204_delta_shock_equivalent.ipynb](02_pricing_and_risk/01_scenarios_and_contexts/examples/02_market_shock/010204_delta_shock_equivalent.ipynb)\n",
    "      - 📄 [010205_vega_shock_equivalent.ipynb](02_pricing_and_risk/01_scenarios_and_contexts/examples/02_market_shock/010205_vega_shock_equivalent.ipynb)\n",
    "      - 📄 [010206_eq_spot_shock.ipynb](02_pricing_and_risk/01_scenarios_and_contexts/examples/02_market_shock/010206_eq_spot_shock.ipynb)\n",
    "      - 📄 [010207_fx_shock_examples.ipynb](02_pricing_and_risk/01_scenarios_and_contexts/examples/02_market_shock/010207_fx_shock_examples.ipynb)\n",
    "    - 📁 03_composite_shocks\n",
    "      - 📄 [010300_rate_composite_shocks.ipynb](02_pricing_and_risk/01_scenarios_and_contexts/examples/03_composite_shocks/010300_rate_composite_shocks.ipynb)\n",
    "      - 📄 [010301_multiple_shocks.ipynb](02_pricing_and_risk/01_scenarios_and_contexts/examples/03_composite_shocks/010301_multiple_shocks.ipynb)\n",
    "    - 📁 04_curve_shock\n",
    "      - 📄 [010400_parallel_curve_shock.ipynb](02_pricing_and_risk/01_scenarios_and_contexts/examples/04_curve_shock/010400_parallel_curve_shock.ipynb)\n",
    "      - 📄 [010401_curve_shock_midpoint.ipynb](02_pricing_and_risk/01_scenarios_and_contexts/examples/04_curve_shock/010401_curve_shock_midpoint.ipynb)\n",
    "      - 📄 [010402_bear_steepener_curve_shock.ipynb](02_pricing_and_risk/01_scenarios_and_contexts/examples/04_curve_shock/010402_bear_steepener_curve_shock.ipynb)\n",
    "      - 📄 [010403_bull_steepener_curve_shock.ipynb](02_pricing_and_risk/01_scenarios_and_contexts/examples/04_curve_shock/010403_bull_steepener_curve_shock.ipynb)\n",
    "      - 📄 [010404_bear_flattener_curve_shock.ipynb](02_pricing_and_risk/01_scenarios_and_contexts/examples/04_curve_shock/010404_bear_flattener_curve_shock.ipynb)\n",
    "      - 📄 [010405_bull_flattener_curve_shock.ipynb](02_pricing_and_risk/01_scenarios_and_contexts/examples/04_curve_shock/010405_bull_flattener_curve_shock.ipynb)\n",
    "    - 📁 05_market_override\n",
    "      - 📄 [010501_eq_spot_override.ipynb](02_pricing_and_risk/01_scenarios_and_contexts/examples/05_market_override/010501_eq_spot_override.ipynb)\n",
    "      - 📄 [010502_eq_future_override.ipynb](02_pricing_and_risk/01_scenarios_and_contexts/examples/05_market_override/010502_eq_future_override.ipynb)\n",
    "    - 📁 06_vol_market_override\n",
    "      - 📄 [010601_eq_vol_override_eod.ipynb](02_pricing_and_risk/01_scenarios_and_contexts/examples/06_vol_market_override/010601_eq_vol_override_eod.ipynb)\n",
    "      - 📄 [010601_eq_vol_override_intraday.ipynb](02_pricing_and_risk/01_scenarios_and_contexts/examples/06_vol_market_override/010601_eq_vol_override_intraday.ipynb)\n",
    "    - 📁 07_curve_overlay\n",
    "      - 📄 [010700_discount_curve_overlay.ipynb](02_pricing_and_risk/01_scenarios_and_contexts/examples/07_curve_overlay/010700_discount_curve_overlay.ipynb)\n",
    "    - 📁 08_multi_scenario\n",
    "      - 📄 [010801_multi_scenario_shock.ipynb](02_pricing_and_risk/01_scenarios_and_contexts/examples/08_multi_scenario/010801_multi_scenario_shock.ipynb)\n",
    "  - 📁 tutorials\n",
    "    - 📄 [Pricing_Context.ipynb](02_pricing_and_risk/01_scenarios_and_contexts/tutorials/Pricing_Context.ipynb)\n",
    "    - 📄 [Scenarios.ipynb](02_pricing_and_risk/01_scenarios_and_contexts/tutorials/Scenarios.ipynb)\n"
   ]
  },
  {
   "cell_type": "markdown",
   "id": "d1e67008",
   "metadata": {},
   "source": [
    "## 📂 03_portfolios"
   ]
  },
  {
   "cell_type": "markdown",
   "id": "d1e67009",
   "metadata": {},
   "source": [
    "- 📁 **examples**\n",
    "  - 📄 [030000_create_portfolio.ipynb](03_portfolios/examples/030000_create_portfolio.ipynb)\n",
    "  - 📄 [030001_modify_instruments.ipynb](03_portfolios/examples/030001_modify_instruments.ipynb)\n",
    "  - 📄 [030002_extracting_instruments_and_results.ipynb](03_portfolios/examples/030002_extracting_instruments_and_results.ipynb)\n",
    "  - 📄 [030003_resolve_portfolio.ipynb](03_portfolios/examples/030003_resolve_portfolio.ipynb)\n",
    "  - 📄 [030004_price_portfolio.ipynb](03_portfolios/examples/030004_price_portfolio.ipynb)\n",
    "  - 📄 [030005_calculate_portfolio_risk.ipynb](03_portfolios/examples/030005_calculate_portfolio_risk.ipynb)\n",
    "  - 📄 [030006_portfolio_grid_calc.ipynb](03_portfolios/examples/030006_portfolio_grid_calc.ipynb)\n",
    "  - 📄 [030007_pnl_explain.ipynb](03_portfolios/examples/030007_pnl_explain.ipynb)\n",
    "  - 📄 [030008_portflio_from_frame.ipynb](03_portfolios/examples/030008_portflio_from_frame.ipynb)\n",
    "  - 📄 [030009_portfolio_risk_result_to_frame.ipynb](03_portfolios/examples/030009_portfolio_risk_result_to_frame.ipynb)\n",
    "  - 📄 [030010_portfolio_intra_leg_dependencies.ipynb](03_portfolios/examples/030010_portfolio_intra_leg_dependencies.ipynb)\n",
    "  - 📄 [030011_portfolio_from_csv.ipynb](03_portfolios/examples/030011_portfolio_from_csv.ipynb)\n",
    "- 📁 **tutorials**\n",
    "  - 📄 [Create New Portfolio.ipynb](03_portfolios/tutorials/Create%20New%20Portfolio.ipynb)\n",
    "  - 📄 [Portfolios.ipynb](03_portfolios/tutorials/Portfolios.ipynb)\n",
    "  - 📄 [Update Historical Portfolio.ipynb](03_portfolios/tutorials/Update%20Historical%20Portfolio.ipynb)\n"
   ]
  },
  {
   "cell_type": "markdown",
   "id": "d1e67010",
   "metadata": {},
   "source": [
    "## 📂 04_backtesting"
   ]
  },
  {
   "cell_type": "markdown",
   "id": "d1e67011",
   "metadata": {},
   "source": [
    "- 📁 **examples**\n",
    "  - 📁 01_PredefinedAssetEngine\n",
    "    - 📄 [040100_simple_example.ipynb](04_backtesting/examples/01_PredefinedAssetEngine/040100_simple_example.ipynb)\n",
    "  - 📁 02_EquityVolEngine\n",
    "    - 📄 [040200_strategy_simple.ipynb](04_backtesting/examples/02_EquityVolEngine/040200_strategy_simple.ipynb)\n",
    "    - 📄 [040201_strategy_delta_hedged.ipynb](04_backtesting/examples/02_EquityVolEngine/040201_strategy_delta_hedged.ipynb)\n",
    "    - 📄 [040202_strategy_pnl_decomposition.ipynb](04_backtesting/examples/02_EquityVolEngine/040202_strategy_pnl_decomposition.ipynb)\n",
    "    - 📄 [040203_strategy_with_signals.ipynb](04_backtesting/examples/02_EquityVolEngine/040203_strategy_with_signals.ipynb)\n",
    "    - 📄 [040204_strategy_market_model.ipynb](04_backtesting/examples/02_EquityVolEngine/040204_strategy_market_model.ipynb)\n",
    "    - 📄 [040205_strategy_scaled_add_action.ipynb](04_backtesting/examples/02_EquityVolEngine/040205_strategy_scaled_add_action.ipynb)\n",
    "  - 📁 03_GenericEngine\n",
    "    - 📄 [040300_strategy_periodic_trigger.ipynb](04_backtesting/examples/03_GenericEngine/040300_strategy_periodic_trigger.ipynb)\n",
    "    - 📄 [040301_strategy_risk_trigger.ipynb](04_backtesting/examples/03_GenericEngine/040301_strategy_risk_trigger.ipynb)\n",
    "    - 📄 [040302_strategy_delta_hedge_FX.ipynb](04_backtesting/examples/03_GenericEngine/040302_strategy_delta_hedge_FX.ipynb)\n",
    "    - 📄 [040303_strategy_delta_hedge_Rates.ipynb](04_backtesting/examples/03_GenericEngine/040303_strategy_delta_hedge_Rates.ipynb)\n",
    "    - 📄 [040304_strategy_mean_reversion.ipynb](04_backtesting/examples/03_GenericEngine/040304_strategy_mean_reversion.ipynb)\n",
    "    - 📄 [040305_strategy_exit_trade_action.ipynb](04_backtesting/examples/03_GenericEngine/040305_strategy_exit_trade_action.ipynb)\n",
    "    - 📄 [040306_strategy_mkt_trigger.ipynb](04_backtesting/examples/03_GenericEngine/040306_strategy_mkt_trigger.ipynb)\n",
    "    - 📄 [040307_strategy_seagull_bullish.ipynb](04_backtesting/examples/03_GenericEngine/040307_strategy_seagull_bullish.ipynb)\n",
    "    - 📄 [040308_rebalance_action.ipynb](04_backtesting/examples/03_GenericEngine/040308_rebalance_action.ipynb)\n",
    "    - 📄 [040309_inflation_hedging_strategy.ipynb](04_backtesting/examples/03_GenericEngine/040309_inflation_hedging_strategy.ipynb)\n",
    "    - 📄 [040310_initial_swap_hedging_strategy_varying_CSA.ipynb](04_backtesting/examples/03_GenericEngine/040310_initial_swap_hedging_strategy_varying_CSA.ipynb)\n",
    "    - 📄 [040311_handling_holidays.ipynb](04_backtesting/examples/03_GenericEngine/040311_handling_holidays.ipynb)\n",
    "    - 📄 [040312_strategy_scaled_add_action.ipynb](04_backtesting/examples/03_GenericEngine/040312_strategy_scaled_add_action.ipynb)\n",
    "    - 📄 [040313_chained_actions.ipynb](04_backtesting/examples/03_GenericEngine/040313_chained_actions.ipynb)\n",
    "- 📁 **tutorials**\n",
    "  - 📄 [Backtesting.ipynb](04_backtesting/tutorials/Backtesting.ipynb)\n"
   ]
  },
  {
   "cell_type": "markdown",
   "id": "d1e67012",
   "metadata": {},
   "source": [
    "## 📂 05_factor_models"
   ]
  },
  {
   "cell_type": "markdown",
   "id": "d1e67013",
   "metadata": {},
   "source": [
    "- 📁 **examples**\n",
    "  - 📄 [0000_get_factors_from_factor_risk_model.ipynb](05_factor_models/examples/0000_get_factors_from_factor_risk_model.ipynb)\n",
    "  - 📄 [0001_screen_assets_by_zscore.ipynb](05_factor_models/examples/0001_screen_assets_by_zscore.ipynb)\n",
    "- 📁 **tutorials**\n",
    "  - 📄 [Factor_Models.ipynb](05_factor_models/tutorials/Factor_Models.ipynb)\n",
    "  - 📄 [Limited_Access_Factor_Models.ipynb](05_factor_models/tutorials/Limited_Access_Factor_Models.ipynb)\n",
    "  - 📄 [Upload_Factor_Models.ipynb](05_factor_models/tutorials/Upload_Factor_Models.ipynb)\n"
   ]
  },
  {
   "cell_type": "markdown",
   "id": "d1e67014",
   "metadata": {},
   "source": [
    "## 📂 06_baskets"
   ]
  },
  {
   "cell_type": "markdown",
   "id": "d1e67015",
   "metadata": {},
   "source": [
    "- 📁 **examples**\n",
    "  - 📁 01_basket_composition_data\n",
    "    - 📄 [0000_get_latest_basket_composition.ipynb](06_baskets/examples/01_basket_composition_data/0000_get_latest_basket_composition.ipynb)\n",
    "    - 📄 [0001_get_basket_composition_for_date.ipynb](06_baskets/examples/01_basket_composition_data/0001_get_basket_composition_for_date.ipynb)\n",
    "    - 📄 [0002_get_basket_composition_for_date_range.ipynb](06_baskets/examples/01_basket_composition_data/0002_get_basket_composition_for_date_range.ipynb)\n",
    "    - 📄 [0003_get_full_basket_composition_history.ipynb](06_baskets/examples/01_basket_composition_data/0003_get_full_basket_composition_history.ipynb)\n",
    "    - 📄 [0004_get_basket_composition_dates.ipynb](06_baskets/examples/01_basket_composition_data/0004_get_basket_composition_dates.ipynb)\n",
    "    - 📄 [0005_get_basket_composition_dataset_coverage.ipynb](06_baskets/examples/01_basket_composition_data/0005_get_basket_composition_dataset_coverage.ipynb)\n",
    "  - 📁 02_basket_pricing_data\n",
    "    - 📄 [0000_get_latest_basket_close_price.ipynb](06_baskets/examples/02_basket_pricing_data/0000_get_latest_basket_close_price.ipynb)\n",
    "    - 📄 [0001_get_basket_close_price_for_date.ipynb](06_baskets/examples/02_basket_pricing_data/0001_get_basket_close_price_for_date.ipynb)\n",
    "    - 📄 [0002_get_basket_close_price_for_dates.ipynb](06_baskets/examples/02_basket_pricing_data/0002_get_basket_close_price_for_dates.ipynb)\n",
    "    - 📄 [0003_get_full_basket_close_price_history.ipynb](06_baskets/examples/02_basket_pricing_data/0003_get_full_basket_close_price_history.ipynb)\n",
    "  - 📁 03_basket_creation\n",
    "    - 📄 [0000_clone_basket_position_set.ipynb](06_baskets/examples/03_basket_creation/0000_clone_basket_position_set.ipynb)\n",
    "    - 📁 position_set\n",
    "      - 📄 [0000_create_position_set_using_position_weights.ipynb](06_baskets/examples/03_basket_creation/position_set/0000_create_position_set_using_position_weights.ipynb)\n",
    "      - 📄 [0001_create_position_set_using_position_quantities.ipynb](06_baskets/examples/03_basket_creation/position_set/0001_create_position_set_using_position_quantities.ipynb)\n",
    "      - 📄 [0002_create_position_set_of_equal_weight_from_list_of_identifiers.ipynb](06_baskets/examples/03_basket_creation/position_set/0002_create_position_set_of_equal_weight_from_list_of_identifiers.ipynb)\n",
    "      - 📄 [0003_equalize_position_set_weights.ipynb](06_baskets/examples/03_basket_creation/position_set/0003_equalize_position_set_weights.ipynb)\n",
    "      - 📄 [0004_add_position_to_existing_position_set.ipynb](06_baskets/examples/03_basket_creation/position_set/0004_add_position_to_existing_position_set.ipynb)\n",
    "      - 📄 [0005_create_position_set_from_list_of_dictionaries.ipynb](06_baskets/examples/03_basket_creation/position_set/0005_create_position_set_from_list_of_dictionaries.ipynb)\n",
    "      - 📄 [0006_create_position_set_from_dataframe.ipynb](06_baskets/examples/03_basket_creation/position_set/0006_create_position_set_from_dataframe.ipynb)\n",
    "      - 📄 [0007_create_position_set_from_csv.ipynb](06_baskets/examples/03_basket_creation/position_set/0007_create_position_set_from_csv.ipynb)\n",
    "      - 📄 [0008_create_position_set_from_excel.ipynb](06_baskets/examples/03_basket_creation/position_set/0008_create_position_set_from_excel.ipynb)\n",
    "      - 📄 [0009_fetch_position_quantities_from_weights.ipynb](06_baskets/examples/03_basket_creation/position_set/0009_fetch_position_quantities_from_weights.ipynb)\n",
    "      - 📄 [0010_fetch_position_weights_from_quantities.ipynb](06_baskets/examples/03_basket_creation/position_set/0010_fetch_position_weights_from_quantities.ipynb)\n",
    "      - 📄 [0011_redistribute_position_weights.ipynb](06_baskets/examples/03_basket_creation/position_set/0011_redistribute_position_weights.ipynb)\n",
    "      - 📄 [0012_create_historical_position_sets_from_excel.ipynb](06_baskets/examples/03_basket_creation/position_set/0012_create_historical_position_sets_from_excel.ipynb)\n",
    "  - 📁 04_basket_corporate_actions_data\n",
    "    - 📄 [0000_get_full_basket_corporate_actions_history.ipynb](06_baskets/examples/04_basket_corporate_actions_data/0000_get_full_basket_corporate_actions_history.ipynb)\n",
    "    - 📄 [0001_get_basket_corporate_actions_for_dates.ipynb](06_baskets/examples/04_basket_corporate_actions_data/0001_get_basket_corporate_actions_for_dates.ipynb)\n",
    "    - 📄 [0002_get_basket_upcoming_corporate_actions.ipynb](06_baskets/examples/04_basket_corporate_actions_data/0002_get_basket_upcoming_corporate_actions.ipynb)\n",
    "    - 📄 [0003_get_specific_corporate_actions_types.ipynb](06_baskets/examples/04_basket_corporate_actions_data/0003_get_specific_corporate_actions_types.ipynb)\n",
    "  - 📁 05_basket_fundamentals_data\n",
    "    - 📄 [0000_get_basket_fundamentals_history.ipynb](06_baskets/examples/05_basket_fundamentals_data/0000_get_basket_fundamentals_history.ipynb)\n",
    "    - 📄 [0001_get_basket_fundamentals_for_dates.ipynb](06_baskets/examples/05_basket_fundamentals_data/0001_get_basket_fundamentals_for_dates.ipynb)\n",
    "    - 📄 [0002_get_basket_fundamentals_specific_period_and_direction.ipynb](06_baskets/examples/05_basket_fundamentals_data/0002_get_basket_fundamentals_specific_period_and_direction.ipynb)\n",
    "    - 📄 [0003_get_specific_basket_fundamentals_metrics.ipynb](06_baskets/examples/05_basket_fundamentals_data/0003_get_specific_basket_fundamentals_metrics.ipynb)\n",
    "  - 📁 06_basket_reports\n",
    "    - 📄 [0000_create_new_factor_risk_report.ipynb](06_baskets/examples/06_basket_reports/0000_create_new_factor_risk_report.ipynb)\n",
    "    - 📄 [0001_delete_existing_factor_risk_report.ipynb](06_baskets/examples/06_basket_reports/0001_delete_existing_factor_risk_report.ipynb)\n",
    "    - 📄 [0002_get_existing_factor_risk_report.ipynb](06_baskets/examples/06_basket_reports/0002_get_existing_factor_risk_report.ipynb)\n",
    "    - 📄 [0003_get_all_existing_basket_reports.ipynb](06_baskets/examples/06_basket_reports/0003_get_all_existing_basket_reports.ipynb)\n",
    "    - 📄 [0004_get_status_of_all_existing_basket_reports.ipynb](06_baskets/examples/06_basket_reports/0004_get_status_of_all_existing_basket_reports.ipynb)\n",
    "    - 📄 [0005_poll_status_of_most_recent_basket_create_report.ipynb](06_baskets/examples/06_basket_reports/0005_poll_status_of_most_recent_basket_create_report.ipynb)\n",
    "    - 📄 [0006_poll_report_status_using_report_id.ipynb](06_baskets/examples/06_basket_reports/0006_poll_report_status_using_report_id.ipynb)\n",
    "  - 📁 07_basket_permissions\n",
    "    - 📄 [0000_get_basket_permissions.ipynb](06_baskets/examples/07_basket_permissions/0000_get_basket_permissions.ipynb)\n",
    "    - 📄 [0001_permission_application_to_basket.ipynb](06_baskets/examples/07_basket_permissions/0001_permission_application_to_basket.ipynb)\n",
    "    - 📄 [0002_permission_user_to_basket_by_email.ipynb](06_baskets/examples/07_basket_permissions/0002_permission_user_to_basket_by_email.ipynb)\n",
    "    - 📄 [0003_permission_group_to_basket.ipynb](06_baskets/examples/07_basket_permissions/0003_permission_group_to_basket.ipynb)\n",
    "    - 📄 [0004_remove_basket_permissions.ipynb](06_baskets/examples/07_basket_permissions/0004_remove_basket_permissions.ipynb)\n",
    "    - 📄 [0005_get_your_permissioned_baskets.ipynb](06_baskets/examples/07_basket_permissions/0005_get_your_permissioned_baskets.ipynb)\n",
    "  - 📁 08_flagship_baskets\n",
    "    - 📄 [0000_get_flagship_baskets.ipynb](06_baskets/examples/08_flagship_baskets/0000_get_flagship_baskets.ipynb)\n",
    "    - 📄 [0001_get_flagship_baskets_on_date.ipynb](06_baskets/examples/08_flagship_baskets/0001_get_flagship_baskets_on_date.ipynb)\n",
    "    - 📄 [0002_get_flagship_baskets_containing_assets.ipynb](06_baskets/examples/08_flagship_baskets/0002_get_flagship_baskets_containing_assets.ipynb)\n",
    "    - 📄 [0003_get_flagship_baskets_containing_assets_on_date.ipynb](06_baskets/examples/08_flagship_baskets/0003_get_flagship_baskets_containing_assets_on_date.ipynb)\n",
    "    - 📄 [0004_get_flagship_baskets_prices.ipynb](06_baskets/examples/08_flagship_baskets/0004_get_flagship_baskets_prices.ipynb)\n",
    "    - 📄 [0005_get_flagship_baskets_prices_for_date_range.ipynb](06_baskets/examples/08_flagship_baskets/0005_get_flagship_baskets_prices_for_date_range.ipynb)\n",
    "    - 📄 [0006_get_flagship_baskets_compositions.ipynb](06_baskets/examples/08_flagship_baskets/0006_get_flagship_baskets_compositions.ipynb)\n",
    "    - 📄 [0007_get_flagship_baskets_compositions_for_date_range.ipynb](06_baskets/examples/08_flagship_baskets/0007_get_flagship_baskets_compositions_for_date_range.ipynb)\n",
    "    - 📄 [0008_filter_flagship_baskets_by_basket_type.ipynb](06_baskets/examples/08_flagship_baskets/0008_filter_flagship_baskets_by_basket_type.ipynb)\n",
    "    - 📄 [0009_filter_flagship_baskets_by_region.ipynb](06_baskets/examples/08_flagship_baskets/0009_filter_flagship_baskets_by_region.ipynb)\n",
    "    - 📄 [0010_filter_flagship_baskets_by_styles.ipynb](06_baskets/examples/08_flagship_baskets/0010_filter_flagship_baskets_by_styles.ipynb)\n",
    "    - 📄 [0011_filter_flagship_baskets_by_ticker.ipynb](06_baskets/examples/08_flagship_baskets/0011_filter_flagship_baskets_by_ticker.ipynb)\n",
    "- 📁 **tutorials**\n",
    "  - 📄 [Basket Backcast.ipynb](06_baskets/tutorials/Basket%20Backcast.ipynb)\n",
    "  - 📄 [Basket Create.ipynb](06_baskets/tutorials/Basket%20Create.ipynb)\n",
    "  - 📄 [Basket Edit.ipynb](06_baskets/tutorials/Basket%20Edit.ipynb)\n",
    "  - 📄 [Basket Rebalance.ipynb](06_baskets/tutorials/Basket%20Rebalance.ipynb)\n"
   ]
  },
  {
   "cell_type": "markdown",
   "id": "d1e67016",
   "metadata": {},
   "source": [
    "## 📂 07_index"
   ]
  },
  {
   "cell_type": "markdown",
   "id": "d1e67017",
   "metadata": {},
   "source": [
    "- 📄 [README.md](07_index/README.md)\n",
    "- 📁 **examples**\n",
    "  - 📄 [0000_get_index_Marquee_url.ipynb](07_index/examples/0000_get_index_Marquee_url.ipynb)\n",
    "  - 📄 [0001_get_index_close_prices.ipynb](07_index/examples/0001_get_index_close_prices.ipynb)\n",
    "  - 📄 [0002_get_index_fundamentals_data.ipynb](07_index/examples/0002_get_index_fundamentals_data.ipynb)\n",
    "  - 📄 [0003_get_index_constituents.ipynb](07_index/examples/0003_get_index_constituents.ipynb)\n",
    "  - 📄 [0004_get_index_weights_and_attribution.ipynb](07_index/examples/0004_get_index_weights_and_attribution.ipynb)\n",
    "  - 📄 [0005_get_index_as_a_tree.ipynb](07_index/examples/0005_get_index_as_a_tree.ipynb)\n",
    "- 📁 **tutorials**\n",
    "  - 📄 [GS Quant STS Index Tutorial.ipynb](07_index/tutorials/GS%20Quant%20STS%20Index%20Tutorial.ipynb)\n"
   ]
  },
  {
   "cell_type": "markdown",
   "id": "d1e67018",
   "metadata": {},
   "source": [
    "## 📂 08_tree_entity"
   ]
  },
  {
   "cell_type": "markdown",
   "id": "d1e67019",
   "metadata": {},
   "source": [
    "- 📄 [tree_entity.ipynb](08_tree_entity/tree_entity.ipynb)\n"
   ]
  },
  {
   "cell_type": "markdown",
   "id": "d1e67020",
   "metadata": {},
   "source": [
    "## 📂 09_security_master"
   ]
  },
  {
   "cell_type": "markdown",
   "id": "d1e67021",
   "metadata": {},
   "source": [
    "- 📄 [Security Master SDK.ipynb](09_security_master/Security%20Master%20SDK.ipynb)\n",
    "- 📄 [Security Master.ipynb](09_security_master/Security%20Master.ipynb)\n"
   ]
  },
  {
   "cell_type": "markdown",
   "id": "d1e67022",
   "metadata": {},
   "source": [
    "## 📂 10_one_delta"
   ]
  },
  {
   "cell_type": "markdown",
   "id": "d1e67023",
   "metadata": {},
   "source": [
    "- 📁 **demos**\n",
    "  - 📄 [01_Create Portfolio.ipynb](10_one_delta/demos/01_Create%20Portfolio.ipynb)\n",
    "  - 📄 [02_Get Factor Attribution Data.ipynb](10_one_delta/demos/02_Get%20Factor%20Attribution%20Data.ipynb)\n",
    "  - 📄 [03_Get Factor Risk Data.ipynb](10_one_delta/demos/03_Get%20Factor%20Risk%20Data.ipynb)\n",
    "  - 📄 [04_Performance Report.ipynb](10_one_delta/demos/04_Performance%20Report.ipynb)\n",
    "  - 📄 [05_Get ESG Analytics.ipynb](10_one_delta/demos/05_Get%20ESG%20Analytics.ipynb)\n",
    "  - 📄 [06_Get Carbon Analytics.ipynb](10_one_delta/demos/06_Get%20Carbon%20Analytics.ipynb)\n",
    "  - 📄 [07_Continuous_Optimization.ipynb](10_one_delta/demos/07_Continuous_Optimization.ipynb)\n",
    "  - 📄 [08_Continuous_Optimization_Preloaded_Portfolio.ipynb](10_one_delta/demos/08_Continuous_Optimization_Preloaded_Portfolio.ipynb)\n",
    "- 📁 **scripts**\n",
    "  - 📁 hedger\n",
    "    - 📄 [Optimizer.ipynb](10_one_delta/scripts/hedger/Optimizer.ipynb)\n",
    "    - 📄 [Performance Hedger.ipynb](10_one_delta/scripts/hedger/Performance%20Hedger.ipynb)\n",
    "  - 📁 portfolios\n",
    "    - 📄 [Create Backcasted Portfolio.ipynb](10_one_delta/scripts/portfolios/Create%20Backcasted%20Portfolio.ipynb)\n",
    "    - 📄 [Create New Portfolio.ipynb](10_one_delta/scripts/portfolios/Create%20New%20Portfolio.ipynb)\n",
    "    - 📄 [Get ESG Analytics.ipynb](10_one_delta/scripts/portfolios/Get%20ESG%20Analytics.ipynb)\n",
    "    - 📄 [Get Factor Attribution Data.ipynb](10_one_delta/scripts/portfolios/Get%20Factor%20Attribution%20Data.ipynb)\n",
    "    - 📄 [Get Factor Risk Data.ipynb](10_one_delta/scripts/portfolios/Get%20Factor%20Risk%20Data.ipynb)\n",
    "    - 📄 [Get Thematic Analytics.ipynb](10_one_delta/scripts/portfolios/Get%20Thematic%20Analytics.ipynb)\n",
    "    - 📄 [Manage a Fund of Funds.ipynb](10_one_delta/scripts/portfolios/Manage%20a%20Fund%20of%20Funds.ipynb)\n",
    "    - 📄 [Retrieve Portfolio Exposures.ipynb](10_one_delta/scripts/portfolios/Retrieve%20Portfolio%20Exposures.ipynb)\n",
    "    - 📄 [Update Historical Portfolio.ipynb](10_one_delta/scripts/portfolios/Update%20Historical%20Portfolio.ipynb)\n",
    "    - 📄 [carbon.ipynb](10_one_delta/scripts/portfolios/carbon.ipynb)\n",
    "  - 📁 reports\n",
    "    - 📄 [Factor Risk Report.ipynb](10_one_delta/scripts/reports/Factor%20Risk%20Report.ipynb)\n",
    "    - 📄 [Performance Report.ipynb](10_one_delta/scripts/reports/Performance%20Report.ipynb)\n",
    "    - 📄 [Thematic Report.ipynb](10_one_delta/scripts/reports/Thematic%20Report.ipynb)\n"
   ]
  },
  {
   "cell_type": "markdown",
   "id": "d1e67024",
   "metadata": {},
   "source": [
    "## 📂 11_macro_models"
   ]
  },
  {
   "cell_type": "markdown",
   "id": "d1e67025",
   "metadata": {},
   "source": [
    "- 📁 **tutorials**\n",
    "  - 📄 [01_Query Macro Models.ipynb](11_macro_models/tutorials/01_Query%20Macro%20Models.ipynb)\n",
    "  - 📄 [02_Upload Macro Models.ipynb](11_macro_models/tutorials/02_Upload%20Macro%20Models.ipynb)\n"
   ]
  },
  {
   "cell_type": "markdown",
   "id": "d1e67026",
   "metadata": {},
   "source": [
    "## 📂 12_scenarios"
   ]
  },
  {
   "cell_type": "markdown",
   "id": "d1e67027",
   "metadata": {},
   "source": [
    "- 📁 **examples**\n",
    "  - 📄 [presidential_election_outcome_scenario.ipynb](12_scenarios/examples/presidential_election_outcome_scenario.ipynb)\n",
    "- 📁 **tutorials**\n",
    "  - 📄 [create_and_run_factor_scenarios.ipynb](12_scenarios/tutorials/create_and_run_factor_scenarios.ipynb)\n"
   ]
  }
 ],
 "metadata": {},
 "nbformat": 4,
 "nbformat_minor": 5
}
